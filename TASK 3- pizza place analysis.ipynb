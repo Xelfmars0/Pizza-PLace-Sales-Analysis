{
 "cells": [
  {
   "cell_type": "code",
   "execution_count": 1,
   "id": "9a64914a-8c5f-4adb-b9ee-f07384ed7de7",
   "metadata": {},
   "outputs": [],
   "source": [
    "import numpy as np\n",
    "import pandas as pd\n",
    "import matplotlib.pyplot as plt\n",
    "\n",
    "import seaborn as sns\n",
    "\n",
    "import warnings\n",
    "warnings.filterwarnings(\"ignore\")\n",
    "sns.set()"
   ]
  },
  {
   "cell_type": "code",
   "execution_count": 2,
   "id": "af76b299-c2bc-4899-a527-5b788da39e68",
   "metadata": {},
   "outputs": [],
   "source": [
    "order_details=pd.read_csv(r\"C:\\Users\\XELFMARS\\Downloads\\Pizza+Place+Sales\\pizza_sales\\order_details.csv\", encoding=\"latin-1\")\n",
    "orders=pd.read_csv(r\"C:\\Users\\XELFMARS\\Downloads\\Pizza+Place+Sales\\pizza_sales\\orders.csv\", encoding=\"latin-1\")\n",
    "pizza_types=pd.read_csv(r\"C:\\Users\\XELFMARS\\Downloads\\Pizza+Place+Sales\\pizza_sales\\pizza_types.csv\", encoding=\"latin-1\")\n",
    "pizzas=pd.read_csv(r\"C:\\Users\\XELFMARS\\Downloads\\Pizza+Place+Sales\\pizza_sales\\pizzas.csv\", encoding=\"latin-1\")"
   ]
  },
  {
   "cell_type": "markdown",
   "id": "6e721f24-9f15-4a11-bcfd-90f7bc169c05",
   "metadata": {},
   "source": [
    "### PRELIMINARY DATA ANALYSIS"
   ]
  },
  {
   "cell_type": "code",
   "execution_count": 3,
   "id": "d087645b-71b5-4465-88f8-fa4ce3dcddb6",
   "metadata": {},
   "outputs": [
    {
     "data": {
      "text/html": [
       "<div>\n",
       "<style scoped>\n",
       "    .dataframe tbody tr th:only-of-type {\n",
       "        vertical-align: middle;\n",
       "    }\n",
       "\n",
       "    .dataframe tbody tr th {\n",
       "        vertical-align: top;\n",
       "    }\n",
       "\n",
       "    .dataframe thead th {\n",
       "        text-align: right;\n",
       "    }\n",
       "</style>\n",
       "<table border=\"1\" class=\"dataframe\">\n",
       "  <thead>\n",
       "    <tr style=\"text-align: right;\">\n",
       "      <th></th>\n",
       "      <th>order_details_id</th>\n",
       "      <th>order_id</th>\n",
       "      <th>pizza_id</th>\n",
       "      <th>quantity</th>\n",
       "    </tr>\n",
       "  </thead>\n",
       "  <tbody>\n",
       "    <tr>\n",
       "      <th>0</th>\n",
       "      <td>1</td>\n",
       "      <td>1</td>\n",
       "      <td>hawaiian_m</td>\n",
       "      <td>1</td>\n",
       "    </tr>\n",
       "    <tr>\n",
       "      <th>1</th>\n",
       "      <td>2</td>\n",
       "      <td>2</td>\n",
       "      <td>classic_dlx_m</td>\n",
       "      <td>1</td>\n",
       "    </tr>\n",
       "    <tr>\n",
       "      <th>2</th>\n",
       "      <td>3</td>\n",
       "      <td>2</td>\n",
       "      <td>five_cheese_l</td>\n",
       "      <td>1</td>\n",
       "    </tr>\n",
       "    <tr>\n",
       "      <th>3</th>\n",
       "      <td>4</td>\n",
       "      <td>2</td>\n",
       "      <td>ital_supr_l</td>\n",
       "      <td>1</td>\n",
       "    </tr>\n",
       "    <tr>\n",
       "      <th>4</th>\n",
       "      <td>5</td>\n",
       "      <td>2</td>\n",
       "      <td>mexicana_m</td>\n",
       "      <td>1</td>\n",
       "    </tr>\n",
       "  </tbody>\n",
       "</table>\n",
       "</div>"
      ],
      "text/plain": [
       "   order_details_id  order_id       pizza_id  quantity\n",
       "0                 1         1     hawaiian_m         1\n",
       "1                 2         2  classic_dlx_m         1\n",
       "2                 3         2  five_cheese_l         1\n",
       "3                 4         2    ital_supr_l         1\n",
       "4                 5         2     mexicana_m         1"
      ]
     },
     "execution_count": 3,
     "metadata": {},
     "output_type": "execute_result"
    }
   ],
   "source": [
    "order_details.head()"
   ]
  },
  {
   "cell_type": "code",
   "execution_count": 4,
   "id": "97bd8bb2-cce1-4e57-a73e-ca86e1cfd3d5",
   "metadata": {},
   "outputs": [
    {
     "data": {
      "text/html": [
       "<div>\n",
       "<style scoped>\n",
       "    .dataframe tbody tr th:only-of-type {\n",
       "        vertical-align: middle;\n",
       "    }\n",
       "\n",
       "    .dataframe tbody tr th {\n",
       "        vertical-align: top;\n",
       "    }\n",
       "\n",
       "    .dataframe thead th {\n",
       "        text-align: right;\n",
       "    }\n",
       "</style>\n",
       "<table border=\"1\" class=\"dataframe\">\n",
       "  <thead>\n",
       "    <tr style=\"text-align: right;\">\n",
       "      <th></th>\n",
       "      <th>order_id</th>\n",
       "      <th>date</th>\n",
       "      <th>time</th>\n",
       "    </tr>\n",
       "  </thead>\n",
       "  <tbody>\n",
       "    <tr>\n",
       "      <th>0</th>\n",
       "      <td>1</td>\n",
       "      <td>2015-01-01</td>\n",
       "      <td>11:38:36</td>\n",
       "    </tr>\n",
       "    <tr>\n",
       "      <th>1</th>\n",
       "      <td>2</td>\n",
       "      <td>2015-01-01</td>\n",
       "      <td>11:57:40</td>\n",
       "    </tr>\n",
       "    <tr>\n",
       "      <th>2</th>\n",
       "      <td>3</td>\n",
       "      <td>2015-01-01</td>\n",
       "      <td>12:12:28</td>\n",
       "    </tr>\n",
       "    <tr>\n",
       "      <th>3</th>\n",
       "      <td>4</td>\n",
       "      <td>2015-01-01</td>\n",
       "      <td>12:16:31</td>\n",
       "    </tr>\n",
       "    <tr>\n",
       "      <th>4</th>\n",
       "      <td>5</td>\n",
       "      <td>2015-01-01</td>\n",
       "      <td>12:21:30</td>\n",
       "    </tr>\n",
       "  </tbody>\n",
       "</table>\n",
       "</div>"
      ],
      "text/plain": [
       "   order_id        date      time\n",
       "0         1  2015-01-01  11:38:36\n",
       "1         2  2015-01-01  11:57:40\n",
       "2         3  2015-01-01  12:12:28\n",
       "3         4  2015-01-01  12:16:31\n",
       "4         5  2015-01-01  12:21:30"
      ]
     },
     "execution_count": 4,
     "metadata": {},
     "output_type": "execute_result"
    }
   ],
   "source": [
    "orders.head()"
   ]
  },
  {
   "cell_type": "code",
   "execution_count": 5,
   "id": "84949729-bab1-4fa8-be3c-2bea5d1df8a7",
   "metadata": {},
   "outputs": [
    {
     "data": {
      "text/html": [
       "<div>\n",
       "<style scoped>\n",
       "    .dataframe tbody tr th:only-of-type {\n",
       "        vertical-align: middle;\n",
       "    }\n",
       "\n",
       "    .dataframe tbody tr th {\n",
       "        vertical-align: top;\n",
       "    }\n",
       "\n",
       "    .dataframe thead th {\n",
       "        text-align: right;\n",
       "    }\n",
       "</style>\n",
       "<table border=\"1\" class=\"dataframe\">\n",
       "  <thead>\n",
       "    <tr style=\"text-align: right;\">\n",
       "      <th></th>\n",
       "      <th>pizza_type_id</th>\n",
       "      <th>name</th>\n",
       "      <th>category</th>\n",
       "      <th>ingredients</th>\n",
       "    </tr>\n",
       "  </thead>\n",
       "  <tbody>\n",
       "    <tr>\n",
       "      <th>0</th>\n",
       "      <td>bbq_ckn</td>\n",
       "      <td>The Barbecue Chicken Pizza</td>\n",
       "      <td>Chicken</td>\n",
       "      <td>Barbecued Chicken, Red Peppers, Green Peppers,...</td>\n",
       "    </tr>\n",
       "    <tr>\n",
       "      <th>1</th>\n",
       "      <td>cali_ckn</td>\n",
       "      <td>The California Chicken Pizza</td>\n",
       "      <td>Chicken</td>\n",
       "      <td>Chicken, Artichoke, Spinach, Garlic, Jalapeno ...</td>\n",
       "    </tr>\n",
       "    <tr>\n",
       "      <th>2</th>\n",
       "      <td>ckn_alfredo</td>\n",
       "      <td>The Chicken Alfredo Pizza</td>\n",
       "      <td>Chicken</td>\n",
       "      <td>Chicken, Red Onions, Red Peppers, Mushrooms, A...</td>\n",
       "    </tr>\n",
       "    <tr>\n",
       "      <th>3</th>\n",
       "      <td>ckn_pesto</td>\n",
       "      <td>The Chicken Pesto Pizza</td>\n",
       "      <td>Chicken</td>\n",
       "      <td>Chicken, Tomatoes, Red Peppers, Spinach, Garli...</td>\n",
       "    </tr>\n",
       "    <tr>\n",
       "      <th>4</th>\n",
       "      <td>southw_ckn</td>\n",
       "      <td>The Southwest Chicken Pizza</td>\n",
       "      <td>Chicken</td>\n",
       "      <td>Chicken, Tomatoes, Red Peppers, Red Onions, Ja...</td>\n",
       "    </tr>\n",
       "  </tbody>\n",
       "</table>\n",
       "</div>"
      ],
      "text/plain": [
       "  pizza_type_id                          name category  \\\n",
       "0       bbq_ckn    The Barbecue Chicken Pizza  Chicken   \n",
       "1      cali_ckn  The California Chicken Pizza  Chicken   \n",
       "2   ckn_alfredo     The Chicken Alfredo Pizza  Chicken   \n",
       "3     ckn_pesto       The Chicken Pesto Pizza  Chicken   \n",
       "4    southw_ckn   The Southwest Chicken Pizza  Chicken   \n",
       "\n",
       "                                         ingredients  \n",
       "0  Barbecued Chicken, Red Peppers, Green Peppers,...  \n",
       "1  Chicken, Artichoke, Spinach, Garlic, Jalapeno ...  \n",
       "2  Chicken, Red Onions, Red Peppers, Mushrooms, A...  \n",
       "3  Chicken, Tomatoes, Red Peppers, Spinach, Garli...  \n",
       "4  Chicken, Tomatoes, Red Peppers, Red Onions, Ja...  "
      ]
     },
     "execution_count": 5,
     "metadata": {},
     "output_type": "execute_result"
    }
   ],
   "source": [
    "pizza_types.head()"
   ]
  },
  {
   "cell_type": "code",
   "execution_count": 6,
   "id": "be6f5bc2-5fcd-4140-b3aa-8720fd7e00dc",
   "metadata": {},
   "outputs": [
    {
     "data": {
      "text/html": [
       "<div>\n",
       "<style scoped>\n",
       "    .dataframe tbody tr th:only-of-type {\n",
       "        vertical-align: middle;\n",
       "    }\n",
       "\n",
       "    .dataframe tbody tr th {\n",
       "        vertical-align: top;\n",
       "    }\n",
       "\n",
       "    .dataframe thead th {\n",
       "        text-align: right;\n",
       "    }\n",
       "</style>\n",
       "<table border=\"1\" class=\"dataframe\">\n",
       "  <thead>\n",
       "    <tr style=\"text-align: right;\">\n",
       "      <th></th>\n",
       "      <th>pizza_id</th>\n",
       "      <th>pizza_type_id</th>\n",
       "      <th>size</th>\n",
       "      <th>price</th>\n",
       "    </tr>\n",
       "  </thead>\n",
       "  <tbody>\n",
       "    <tr>\n",
       "      <th>0</th>\n",
       "      <td>bbq_ckn_s</td>\n",
       "      <td>bbq_ckn</td>\n",
       "      <td>S</td>\n",
       "      <td>12.75</td>\n",
       "    </tr>\n",
       "    <tr>\n",
       "      <th>1</th>\n",
       "      <td>bbq_ckn_m</td>\n",
       "      <td>bbq_ckn</td>\n",
       "      <td>M</td>\n",
       "      <td>16.75</td>\n",
       "    </tr>\n",
       "    <tr>\n",
       "      <th>2</th>\n",
       "      <td>bbq_ckn_l</td>\n",
       "      <td>bbq_ckn</td>\n",
       "      <td>L</td>\n",
       "      <td>20.75</td>\n",
       "    </tr>\n",
       "    <tr>\n",
       "      <th>3</th>\n",
       "      <td>cali_ckn_s</td>\n",
       "      <td>cali_ckn</td>\n",
       "      <td>S</td>\n",
       "      <td>12.75</td>\n",
       "    </tr>\n",
       "    <tr>\n",
       "      <th>4</th>\n",
       "      <td>cali_ckn_m</td>\n",
       "      <td>cali_ckn</td>\n",
       "      <td>M</td>\n",
       "      <td>16.75</td>\n",
       "    </tr>\n",
       "  </tbody>\n",
       "</table>\n",
       "</div>"
      ],
      "text/plain": [
       "     pizza_id pizza_type_id size  price\n",
       "0   bbq_ckn_s       bbq_ckn    S  12.75\n",
       "1   bbq_ckn_m       bbq_ckn    M  16.75\n",
       "2   bbq_ckn_l       bbq_ckn    L  20.75\n",
       "3  cali_ckn_s      cali_ckn    S  12.75\n",
       "4  cali_ckn_m      cali_ckn    M  16.75"
      ]
     },
     "execution_count": 6,
     "metadata": {},
     "output_type": "execute_result"
    }
   ],
   "source": [
    "pizzas.head()"
   ]
  },
  {
   "cell_type": "code",
   "execution_count": 7,
   "id": "5c117442-548d-4569-becd-39725f41503d",
   "metadata": {},
   "outputs": [
    {
     "name": "stdout",
     "output_type": "stream",
     "text": [
      "<class 'pandas.core.frame.DataFrame'>\n",
      "RangeIndex: 48620 entries, 0 to 48619\n",
      "Data columns (total 4 columns):\n",
      " #   Column            Non-Null Count  Dtype \n",
      "---  ------            --------------  ----- \n",
      " 0   order_details_id  48620 non-null  int64 \n",
      " 1   order_id          48620 non-null  int64 \n",
      " 2   pizza_id          48620 non-null  object\n",
      " 3   quantity          48620 non-null  int64 \n",
      "dtypes: int64(3), object(1)\n",
      "memory usage: 1.5+ MB\n"
     ]
    },
    {
     "data": {
      "text/plain": [
       "(48620, 4)"
      ]
     },
     "execution_count": 7,
     "metadata": {},
     "output_type": "execute_result"
    }
   ],
   "source": [
    "order_details.info()\n",
    "order_details.shape\n",
    "\n",
    "#checking to see if null entities or duplicates exist in order_details"
   ]
  },
  {
   "cell_type": "code",
   "execution_count": 8,
   "id": "f38aadcc-2507-4bcc-99f2-f99abb8f9cbc",
   "metadata": {},
   "outputs": [
    {
     "data": {
      "text/plain": [
       "order_details_id    0\n",
       "order_id            0\n",
       "pizza_id            0\n",
       "quantity            0\n",
       "dtype: int64"
      ]
     },
     "execution_count": 8,
     "metadata": {},
     "output_type": "execute_result"
    }
   ],
   "source": [
    "order_details.isna().sum()"
   ]
  },
  {
   "cell_type": "code",
   "execution_count": 9,
   "id": "45a712be-4d9d-442d-b7a9-b5d9829a23ee",
   "metadata": {},
   "outputs": [
    {
     "data": {
      "text/plain": [
       "np.int64(0)"
      ]
     },
     "execution_count": 9,
     "metadata": {},
     "output_type": "execute_result"
    }
   ],
   "source": [
    "order_details.duplicated().sum()"
   ]
  },
  {
   "cell_type": "code",
   "execution_count": 10,
   "id": "8bb41cda-9138-418d-bae0-c833a3d4a998",
   "metadata": {},
   "outputs": [
    {
     "name": "stdout",
     "output_type": "stream",
     "text": [
      "<class 'pandas.core.frame.DataFrame'>\n",
      "RangeIndex: 21350 entries, 0 to 21349\n",
      "Data columns (total 3 columns):\n",
      " #   Column    Non-Null Count  Dtype \n",
      "---  ------    --------------  ----- \n",
      " 0   order_id  21350 non-null  int64 \n",
      " 1   date      21350 non-null  object\n",
      " 2   time      21350 non-null  object\n",
      "dtypes: int64(1), object(2)\n",
      "memory usage: 500.5+ KB\n"
     ]
    },
    {
     "data": {
      "text/plain": [
       "(21350, 3)"
      ]
     },
     "execution_count": 10,
     "metadata": {},
     "output_type": "execute_result"
    }
   ],
   "source": [
    "orders.info()\n",
    "orders.shape"
   ]
  },
  {
   "cell_type": "code",
   "execution_count": 11,
   "id": "4b5e6d40-e86a-414b-b284-65a27924fddf",
   "metadata": {},
   "outputs": [
    {
     "name": "stdout",
     "output_type": "stream",
     "text": [
      "<class 'pandas.core.frame.DataFrame'>\n",
      "RangeIndex: 32 entries, 0 to 31\n",
      "Data columns (total 4 columns):\n",
      " #   Column         Non-Null Count  Dtype \n",
      "---  ------         --------------  ----- \n",
      " 0   pizza_type_id  32 non-null     object\n",
      " 1   name           32 non-null     object\n",
      " 2   category       32 non-null     object\n",
      " 3   ingredients    32 non-null     object\n",
      "dtypes: object(4)\n",
      "memory usage: 1.1+ KB\n"
     ]
    },
    {
     "data": {
      "text/plain": [
       "(32, 4)"
      ]
     },
     "execution_count": 11,
     "metadata": {},
     "output_type": "execute_result"
    }
   ],
   "source": [
    "pizza_types.info()\n",
    "pizza_types.shape"
   ]
  },
  {
   "cell_type": "code",
   "execution_count": 12,
   "id": "4704d30b-28da-4a3b-8f85-279c4aa62f1a",
   "metadata": {},
   "outputs": [
    {
     "name": "stdout",
     "output_type": "stream",
     "text": [
      "<class 'pandas.core.frame.DataFrame'>\n",
      "RangeIndex: 96 entries, 0 to 95\n",
      "Data columns (total 4 columns):\n",
      " #   Column         Non-Null Count  Dtype  \n",
      "---  ------         --------------  -----  \n",
      " 0   pizza_id       96 non-null     object \n",
      " 1   pizza_type_id  96 non-null     object \n",
      " 2   size           96 non-null     object \n",
      " 3   price          96 non-null     float64\n",
      "dtypes: float64(1), object(3)\n",
      "memory usage: 3.1+ KB\n"
     ]
    },
    {
     "data": {
      "text/plain": [
       "(96, 4)"
      ]
     },
     "execution_count": 12,
     "metadata": {},
     "output_type": "execute_result"
    }
   ],
   "source": [
    "pizzas.info()\n",
    "pizzas.shape"
   ]
  },
  {
   "cell_type": "markdown",
   "id": "3ef57f86-7cbd-422e-b69d-6fee954d400a",
   "metadata": {},
   "source": [
    "#### the datasets do not contain any null objects"
   ]
  },
  {
   "cell_type": "code",
   "execution_count": 13,
   "id": "97123f63-6a33-4df5-9b6f-a82610a446a6",
   "metadata": {},
   "outputs": [
    {
     "data": {
      "text/html": [
       "<div>\n",
       "<style scoped>\n",
       "    .dataframe tbody tr th:only-of-type {\n",
       "        vertical-align: middle;\n",
       "    }\n",
       "\n",
       "    .dataframe tbody tr th {\n",
       "        vertical-align: top;\n",
       "    }\n",
       "\n",
       "    .dataframe thead th {\n",
       "        text-align: right;\n",
       "    }\n",
       "</style>\n",
       "<table border=\"1\" class=\"dataframe\">\n",
       "  <thead>\n",
       "    <tr style=\"text-align: right;\">\n",
       "      <th></th>\n",
       "      <th>order_id</th>\n",
       "      <th>date</th>\n",
       "      <th>time</th>\n",
       "      <th>DateTime</th>\n",
       "    </tr>\n",
       "  </thead>\n",
       "  <tbody>\n",
       "    <tr>\n",
       "      <th>0</th>\n",
       "      <td>1</td>\n",
       "      <td>2015-01-01</td>\n",
       "      <td>11:38:36</td>\n",
       "      <td>2015-01-01 11:38:36</td>\n",
       "    </tr>\n",
       "    <tr>\n",
       "      <th>1</th>\n",
       "      <td>2</td>\n",
       "      <td>2015-01-01</td>\n",
       "      <td>11:57:40</td>\n",
       "      <td>2015-01-01 11:57:40</td>\n",
       "    </tr>\n",
       "    <tr>\n",
       "      <th>2</th>\n",
       "      <td>3</td>\n",
       "      <td>2015-01-01</td>\n",
       "      <td>12:12:28</td>\n",
       "      <td>2015-01-01 12:12:28</td>\n",
       "    </tr>\n",
       "    <tr>\n",
       "      <th>3</th>\n",
       "      <td>4</td>\n",
       "      <td>2015-01-01</td>\n",
       "      <td>12:16:31</td>\n",
       "      <td>2015-01-01 12:16:31</td>\n",
       "    </tr>\n",
       "    <tr>\n",
       "      <th>4</th>\n",
       "      <td>5</td>\n",
       "      <td>2015-01-01</td>\n",
       "      <td>12:21:30</td>\n",
       "      <td>2015-01-01 12:21:30</td>\n",
       "    </tr>\n",
       "    <tr>\n",
       "      <th>...</th>\n",
       "      <td>...</td>\n",
       "      <td>...</td>\n",
       "      <td>...</td>\n",
       "      <td>...</td>\n",
       "    </tr>\n",
       "    <tr>\n",
       "      <th>21345</th>\n",
       "      <td>21346</td>\n",
       "      <td>2015-12-31</td>\n",
       "      <td>20:51:07</td>\n",
       "      <td>2015-12-31 20:51:07</td>\n",
       "    </tr>\n",
       "    <tr>\n",
       "      <th>21346</th>\n",
       "      <td>21347</td>\n",
       "      <td>2015-12-31</td>\n",
       "      <td>21:14:37</td>\n",
       "      <td>2015-12-31 21:14:37</td>\n",
       "    </tr>\n",
       "    <tr>\n",
       "      <th>21347</th>\n",
       "      <td>21348</td>\n",
       "      <td>2015-12-31</td>\n",
       "      <td>21:23:10</td>\n",
       "      <td>2015-12-31 21:23:10</td>\n",
       "    </tr>\n",
       "    <tr>\n",
       "      <th>21348</th>\n",
       "      <td>21349</td>\n",
       "      <td>2015-12-31</td>\n",
       "      <td>22:09:54</td>\n",
       "      <td>2015-12-31 22:09:54</td>\n",
       "    </tr>\n",
       "    <tr>\n",
       "      <th>21349</th>\n",
       "      <td>21350</td>\n",
       "      <td>2015-12-31</td>\n",
       "      <td>23:02:05</td>\n",
       "      <td>2015-12-31 23:02:05</td>\n",
       "    </tr>\n",
       "  </tbody>\n",
       "</table>\n",
       "<p>21350 rows × 4 columns</p>\n",
       "</div>"
      ],
      "text/plain": [
       "       order_id        date      time             DateTime\n",
       "0             1  2015-01-01  11:38:36  2015-01-01 11:38:36\n",
       "1             2  2015-01-01  11:57:40  2015-01-01 11:57:40\n",
       "2             3  2015-01-01  12:12:28  2015-01-01 12:12:28\n",
       "3             4  2015-01-01  12:16:31  2015-01-01 12:16:31\n",
       "4             5  2015-01-01  12:21:30  2015-01-01 12:21:30\n",
       "...         ...         ...       ...                  ...\n",
       "21345     21346  2015-12-31  20:51:07  2015-12-31 20:51:07\n",
       "21346     21347  2015-12-31  21:14:37  2015-12-31 21:14:37\n",
       "21347     21348  2015-12-31  21:23:10  2015-12-31 21:23:10\n",
       "21348     21349  2015-12-31  22:09:54  2015-12-31 22:09:54\n",
       "21349     21350  2015-12-31  23:02:05  2015-12-31 23:02:05\n",
       "\n",
       "[21350 rows x 4 columns]"
      ]
     },
     "execution_count": 13,
     "metadata": {},
     "output_type": "execute_result"
    }
   ],
   "source": [
    "#TO ADD COLUMN of date and time into one for easy conversion into datetime format\n",
    "orders['DateTime']=(orders['date']+' '+orders['time'])\n",
    "orders"
   ]
  },
  {
   "cell_type": "code",
   "execution_count": 14,
   "id": "d06c2d9d-6ce9-478f-b258-0f6d9f74f52a",
   "metadata": {},
   "outputs": [
    {
     "name": "stdout",
     "output_type": "stream",
     "text": [
      "<class 'pandas.core.frame.DataFrame'>\n",
      "RangeIndex: 21350 entries, 0 to 21349\n",
      "Data columns (total 4 columns):\n",
      " #   Column    Non-Null Count  Dtype         \n",
      "---  ------    --------------  -----         \n",
      " 0   order_id  21350 non-null  int64         \n",
      " 1   date      21350 non-null  object        \n",
      " 2   time      21350 non-null  object        \n",
      " 3   DateTime  21350 non-null  datetime64[ns]\n",
      "dtypes: datetime64[ns](1), int64(1), object(2)\n",
      "memory usage: 667.3+ KB\n"
     ]
    }
   ],
   "source": [
    "#To convert into datetime format\n",
    "orders['DateTime']=pd.to_datetime(orders['DateTime'])\n",
    "orders.info()"
   ]
  },
  {
   "cell_type": "code",
   "execution_count": 15,
   "id": "2507a0c9-f598-4b4f-9c91-1ca57d1e62ca",
   "metadata": {},
   "outputs": [
    {
     "data": {
      "text/html": [
       "<div>\n",
       "<style scoped>\n",
       "    .dataframe tbody tr th:only-of-type {\n",
       "        vertical-align: middle;\n",
       "    }\n",
       "\n",
       "    .dataframe tbody tr th {\n",
       "        vertical-align: top;\n",
       "    }\n",
       "\n",
       "    .dataframe thead th {\n",
       "        text-align: right;\n",
       "    }\n",
       "</style>\n",
       "<table border=\"1\" class=\"dataframe\">\n",
       "  <thead>\n",
       "    <tr style=\"text-align: right;\">\n",
       "      <th></th>\n",
       "      <th>order_details_id</th>\n",
       "      <th>order_id</th>\n",
       "      <th>pizza_id</th>\n",
       "      <th>quantity</th>\n",
       "      <th>date</th>\n",
       "      <th>time</th>\n",
       "      <th>DateTime</th>\n",
       "    </tr>\n",
       "  </thead>\n",
       "  <tbody>\n",
       "    <tr>\n",
       "      <th>0</th>\n",
       "      <td>1</td>\n",
       "      <td>1</td>\n",
       "      <td>hawaiian_m</td>\n",
       "      <td>1</td>\n",
       "      <td>2015-01-01</td>\n",
       "      <td>11:38:36</td>\n",
       "      <td>2015-01-01 11:38:36</td>\n",
       "    </tr>\n",
       "    <tr>\n",
       "      <th>1</th>\n",
       "      <td>2</td>\n",
       "      <td>2</td>\n",
       "      <td>classic_dlx_m</td>\n",
       "      <td>1</td>\n",
       "      <td>2015-01-01</td>\n",
       "      <td>11:57:40</td>\n",
       "      <td>2015-01-01 11:57:40</td>\n",
       "    </tr>\n",
       "    <tr>\n",
       "      <th>2</th>\n",
       "      <td>3</td>\n",
       "      <td>2</td>\n",
       "      <td>five_cheese_l</td>\n",
       "      <td>1</td>\n",
       "      <td>2015-01-01</td>\n",
       "      <td>11:57:40</td>\n",
       "      <td>2015-01-01 11:57:40</td>\n",
       "    </tr>\n",
       "    <tr>\n",
       "      <th>3</th>\n",
       "      <td>4</td>\n",
       "      <td>2</td>\n",
       "      <td>ital_supr_l</td>\n",
       "      <td>1</td>\n",
       "      <td>2015-01-01</td>\n",
       "      <td>11:57:40</td>\n",
       "      <td>2015-01-01 11:57:40</td>\n",
       "    </tr>\n",
       "    <tr>\n",
       "      <th>4</th>\n",
       "      <td>5</td>\n",
       "      <td>2</td>\n",
       "      <td>mexicana_m</td>\n",
       "      <td>1</td>\n",
       "      <td>2015-01-01</td>\n",
       "      <td>11:57:40</td>\n",
       "      <td>2015-01-01 11:57:40</td>\n",
       "    </tr>\n",
       "    <tr>\n",
       "      <th>...</th>\n",
       "      <td>...</td>\n",
       "      <td>...</td>\n",
       "      <td>...</td>\n",
       "      <td>...</td>\n",
       "      <td>...</td>\n",
       "      <td>...</td>\n",
       "      <td>...</td>\n",
       "    </tr>\n",
       "    <tr>\n",
       "      <th>48615</th>\n",
       "      <td>48616</td>\n",
       "      <td>21348</td>\n",
       "      <td>ckn_alfredo_m</td>\n",
       "      <td>1</td>\n",
       "      <td>2015-12-31</td>\n",
       "      <td>21:23:10</td>\n",
       "      <td>2015-12-31 21:23:10</td>\n",
       "    </tr>\n",
       "    <tr>\n",
       "      <th>48616</th>\n",
       "      <td>48617</td>\n",
       "      <td>21348</td>\n",
       "      <td>four_cheese_l</td>\n",
       "      <td>1</td>\n",
       "      <td>2015-12-31</td>\n",
       "      <td>21:23:10</td>\n",
       "      <td>2015-12-31 21:23:10</td>\n",
       "    </tr>\n",
       "    <tr>\n",
       "      <th>48617</th>\n",
       "      <td>48618</td>\n",
       "      <td>21348</td>\n",
       "      <td>napolitana_s</td>\n",
       "      <td>1</td>\n",
       "      <td>2015-12-31</td>\n",
       "      <td>21:23:10</td>\n",
       "      <td>2015-12-31 21:23:10</td>\n",
       "    </tr>\n",
       "    <tr>\n",
       "      <th>48618</th>\n",
       "      <td>48619</td>\n",
       "      <td>21349</td>\n",
       "      <td>mexicana_l</td>\n",
       "      <td>1</td>\n",
       "      <td>2015-12-31</td>\n",
       "      <td>22:09:54</td>\n",
       "      <td>2015-12-31 22:09:54</td>\n",
       "    </tr>\n",
       "    <tr>\n",
       "      <th>48619</th>\n",
       "      <td>48620</td>\n",
       "      <td>21350</td>\n",
       "      <td>bbq_ckn_s</td>\n",
       "      <td>1</td>\n",
       "      <td>2015-12-31</td>\n",
       "      <td>23:02:05</td>\n",
       "      <td>2015-12-31 23:02:05</td>\n",
       "    </tr>\n",
       "  </tbody>\n",
       "</table>\n",
       "<p>48620 rows × 7 columns</p>\n",
       "</div>"
      ],
      "text/plain": [
       "       order_details_id  order_id       pizza_id  quantity        date  \\\n",
       "0                     1         1     hawaiian_m         1  2015-01-01   \n",
       "1                     2         2  classic_dlx_m         1  2015-01-01   \n",
       "2                     3         2  five_cheese_l         1  2015-01-01   \n",
       "3                     4         2    ital_supr_l         1  2015-01-01   \n",
       "4                     5         2     mexicana_m         1  2015-01-01   \n",
       "...                 ...       ...            ...       ...         ...   \n",
       "48615             48616     21348  ckn_alfredo_m         1  2015-12-31   \n",
       "48616             48617     21348  four_cheese_l         1  2015-12-31   \n",
       "48617             48618     21348   napolitana_s         1  2015-12-31   \n",
       "48618             48619     21349     mexicana_l         1  2015-12-31   \n",
       "48619             48620     21350      bbq_ckn_s         1  2015-12-31   \n",
       "\n",
       "           time            DateTime  \n",
       "0      11:38:36 2015-01-01 11:38:36  \n",
       "1      11:57:40 2015-01-01 11:57:40  \n",
       "2      11:57:40 2015-01-01 11:57:40  \n",
       "3      11:57:40 2015-01-01 11:57:40  \n",
       "4      11:57:40 2015-01-01 11:57:40  \n",
       "...         ...                 ...  \n",
       "48615  21:23:10 2015-12-31 21:23:10  \n",
       "48616  21:23:10 2015-12-31 21:23:10  \n",
       "48617  21:23:10 2015-12-31 21:23:10  \n",
       "48618  22:09:54 2015-12-31 22:09:54  \n",
       "48619  23:02:05 2015-12-31 23:02:05  \n",
       "\n",
       "[48620 rows x 7 columns]"
      ]
     },
     "execution_count": 15,
     "metadata": {},
     "output_type": "execute_result"
    }
   ],
   "source": [
    "#Merging the order_datails and orders dataset on order_id column\n",
    "\n",
    "first_merge=pd.merge(order_details, orders, on= 'order_id')\n",
    "first_merge"
   ]
  },
  {
   "cell_type": "code",
   "execution_count": 16,
   "id": "4d2db921-8e39-4a8e-bab1-78c5dcfad56f",
   "metadata": {},
   "outputs": [
    {
     "data": {
      "text/plain": [
       "quantity\n",
       "1    47693\n",
       "2      903\n",
       "3       21\n",
       "4        3\n",
       "Name: count, dtype: int64"
      ]
     },
     "execution_count": 16,
     "metadata": {},
     "output_type": "execute_result"
    }
   ],
   "source": [
    "order_details['quantity'].value_counts()"
   ]
  },
  {
   "cell_type": "code",
   "execution_count": 17,
   "id": "23f9717c-4399-4f34-84b3-ab08914c0a7d",
   "metadata": {},
   "outputs": [
    {
     "data": {
      "text/html": [
       "<div>\n",
       "<style scoped>\n",
       "    .dataframe tbody tr th:only-of-type {\n",
       "        vertical-align: middle;\n",
       "    }\n",
       "\n",
       "    .dataframe tbody tr th {\n",
       "        vertical-align: top;\n",
       "    }\n",
       "\n",
       "    .dataframe thead th {\n",
       "        text-align: right;\n",
       "    }\n",
       "</style>\n",
       "<table border=\"1\" class=\"dataframe\">\n",
       "  <thead>\n",
       "    <tr style=\"text-align: right;\">\n",
       "      <th></th>\n",
       "      <th>pizza_type_id</th>\n",
       "      <th>name</th>\n",
       "      <th>category</th>\n",
       "      <th>ingredients</th>\n",
       "      <th>pizza_id</th>\n",
       "      <th>size</th>\n",
       "      <th>price</th>\n",
       "    </tr>\n",
       "  </thead>\n",
       "  <tbody>\n",
       "    <tr>\n",
       "      <th>0</th>\n",
       "      <td>bbq_ckn</td>\n",
       "      <td>The Barbecue Chicken Pizza</td>\n",
       "      <td>Chicken</td>\n",
       "      <td>Barbecued Chicken, Red Peppers, Green Peppers,...</td>\n",
       "      <td>bbq_ckn_s</td>\n",
       "      <td>S</td>\n",
       "      <td>12.75</td>\n",
       "    </tr>\n",
       "    <tr>\n",
       "      <th>1</th>\n",
       "      <td>bbq_ckn</td>\n",
       "      <td>The Barbecue Chicken Pizza</td>\n",
       "      <td>Chicken</td>\n",
       "      <td>Barbecued Chicken, Red Peppers, Green Peppers,...</td>\n",
       "      <td>bbq_ckn_m</td>\n",
       "      <td>M</td>\n",
       "      <td>16.75</td>\n",
       "    </tr>\n",
       "    <tr>\n",
       "      <th>2</th>\n",
       "      <td>bbq_ckn</td>\n",
       "      <td>The Barbecue Chicken Pizza</td>\n",
       "      <td>Chicken</td>\n",
       "      <td>Barbecued Chicken, Red Peppers, Green Peppers,...</td>\n",
       "      <td>bbq_ckn_l</td>\n",
       "      <td>L</td>\n",
       "      <td>20.75</td>\n",
       "    </tr>\n",
       "    <tr>\n",
       "      <th>3</th>\n",
       "      <td>cali_ckn</td>\n",
       "      <td>The California Chicken Pizza</td>\n",
       "      <td>Chicken</td>\n",
       "      <td>Chicken, Artichoke, Spinach, Garlic, Jalapeno ...</td>\n",
       "      <td>cali_ckn_s</td>\n",
       "      <td>S</td>\n",
       "      <td>12.75</td>\n",
       "    </tr>\n",
       "    <tr>\n",
       "      <th>4</th>\n",
       "      <td>cali_ckn</td>\n",
       "      <td>The California Chicken Pizza</td>\n",
       "      <td>Chicken</td>\n",
       "      <td>Chicken, Artichoke, Spinach, Garlic, Jalapeno ...</td>\n",
       "      <td>cali_ckn_m</td>\n",
       "      <td>M</td>\n",
       "      <td>16.75</td>\n",
       "    </tr>\n",
       "    <tr>\n",
       "      <th>...</th>\n",
       "      <td>...</td>\n",
       "      <td>...</td>\n",
       "      <td>...</td>\n",
       "      <td>...</td>\n",
       "      <td>...</td>\n",
       "      <td>...</td>\n",
       "      <td>...</td>\n",
       "    </tr>\n",
       "    <tr>\n",
       "      <th>91</th>\n",
       "      <td>spinach_fet</td>\n",
       "      <td>The Spinach and Feta Pizza</td>\n",
       "      <td>Veggie</td>\n",
       "      <td>Spinach, Mushrooms, Red Onions, Feta Cheese, G...</td>\n",
       "      <td>spinach_fet_m</td>\n",
       "      <td>M</td>\n",
       "      <td>16.00</td>\n",
       "    </tr>\n",
       "    <tr>\n",
       "      <th>92</th>\n",
       "      <td>spinach_fet</td>\n",
       "      <td>The Spinach and Feta Pizza</td>\n",
       "      <td>Veggie</td>\n",
       "      <td>Spinach, Mushrooms, Red Onions, Feta Cheese, G...</td>\n",
       "      <td>spinach_fet_l</td>\n",
       "      <td>L</td>\n",
       "      <td>20.25</td>\n",
       "    </tr>\n",
       "    <tr>\n",
       "      <th>93</th>\n",
       "      <td>veggie_veg</td>\n",
       "      <td>The Vegetables + Vegetables Pizza</td>\n",
       "      <td>Veggie</td>\n",
       "      <td>Mushrooms, Tomatoes, Red Peppers, Green Pepper...</td>\n",
       "      <td>veggie_veg_s</td>\n",
       "      <td>S</td>\n",
       "      <td>12.00</td>\n",
       "    </tr>\n",
       "    <tr>\n",
       "      <th>94</th>\n",
       "      <td>veggie_veg</td>\n",
       "      <td>The Vegetables + Vegetables Pizza</td>\n",
       "      <td>Veggie</td>\n",
       "      <td>Mushrooms, Tomatoes, Red Peppers, Green Pepper...</td>\n",
       "      <td>veggie_veg_m</td>\n",
       "      <td>M</td>\n",
       "      <td>16.00</td>\n",
       "    </tr>\n",
       "    <tr>\n",
       "      <th>95</th>\n",
       "      <td>veggie_veg</td>\n",
       "      <td>The Vegetables + Vegetables Pizza</td>\n",
       "      <td>Veggie</td>\n",
       "      <td>Mushrooms, Tomatoes, Red Peppers, Green Pepper...</td>\n",
       "      <td>veggie_veg_l</td>\n",
       "      <td>L</td>\n",
       "      <td>20.25</td>\n",
       "    </tr>\n",
       "  </tbody>\n",
       "</table>\n",
       "<p>96 rows × 7 columns</p>\n",
       "</div>"
      ],
      "text/plain": [
       "   pizza_type_id                               name category  \\\n",
       "0        bbq_ckn         The Barbecue Chicken Pizza  Chicken   \n",
       "1        bbq_ckn         The Barbecue Chicken Pizza  Chicken   \n",
       "2        bbq_ckn         The Barbecue Chicken Pizza  Chicken   \n",
       "3       cali_ckn       The California Chicken Pizza  Chicken   \n",
       "4       cali_ckn       The California Chicken Pizza  Chicken   \n",
       "..           ...                                ...      ...   \n",
       "91   spinach_fet         The Spinach and Feta Pizza   Veggie   \n",
       "92   spinach_fet         The Spinach and Feta Pizza   Veggie   \n",
       "93    veggie_veg  The Vegetables + Vegetables Pizza   Veggie   \n",
       "94    veggie_veg  The Vegetables + Vegetables Pizza   Veggie   \n",
       "95    veggie_veg  The Vegetables + Vegetables Pizza   Veggie   \n",
       "\n",
       "                                          ingredients       pizza_id size  \\\n",
       "0   Barbecued Chicken, Red Peppers, Green Peppers,...      bbq_ckn_s    S   \n",
       "1   Barbecued Chicken, Red Peppers, Green Peppers,...      bbq_ckn_m    M   \n",
       "2   Barbecued Chicken, Red Peppers, Green Peppers,...      bbq_ckn_l    L   \n",
       "3   Chicken, Artichoke, Spinach, Garlic, Jalapeno ...     cali_ckn_s    S   \n",
       "4   Chicken, Artichoke, Spinach, Garlic, Jalapeno ...     cali_ckn_m    M   \n",
       "..                                                ...            ...  ...   \n",
       "91  Spinach, Mushrooms, Red Onions, Feta Cheese, G...  spinach_fet_m    M   \n",
       "92  Spinach, Mushrooms, Red Onions, Feta Cheese, G...  spinach_fet_l    L   \n",
       "93  Mushrooms, Tomatoes, Red Peppers, Green Pepper...   veggie_veg_s    S   \n",
       "94  Mushrooms, Tomatoes, Red Peppers, Green Pepper...   veggie_veg_m    M   \n",
       "95  Mushrooms, Tomatoes, Red Peppers, Green Pepper...   veggie_veg_l    L   \n",
       "\n",
       "    price  \n",
       "0   12.75  \n",
       "1   16.75  \n",
       "2   20.75  \n",
       "3   12.75  \n",
       "4   16.75  \n",
       "..    ...  \n",
       "91  16.00  \n",
       "92  20.25  \n",
       "93  12.00  \n",
       "94  16.00  \n",
       "95  20.25  \n",
       "\n",
       "[96 rows x 7 columns]"
      ]
     },
     "execution_count": 17,
     "metadata": {},
     "output_type": "execute_result"
    }
   ],
   "source": [
    "#Merging the pizza_types and pizzas datasete on the pizza_type_id column\n",
    "\n",
    "second_merge=pd.merge(pizza_types, pizzas, on='pizza_type_id')\n",
    "second_merge"
   ]
  },
  {
   "cell_type": "code",
   "execution_count": 18,
   "id": "ed6db133-fe15-411f-87a5-2398f4b0accc",
   "metadata": {},
   "outputs": [
    {
     "data": {
      "text/html": [
       "<div>\n",
       "<style scoped>\n",
       "    .dataframe tbody tr th:only-of-type {\n",
       "        vertical-align: middle;\n",
       "    }\n",
       "\n",
       "    .dataframe tbody tr th {\n",
       "        vertical-align: top;\n",
       "    }\n",
       "\n",
       "    .dataframe thead th {\n",
       "        text-align: right;\n",
       "    }\n",
       "</style>\n",
       "<table border=\"1\" class=\"dataframe\">\n",
       "  <thead>\n",
       "    <tr style=\"text-align: right;\">\n",
       "      <th></th>\n",
       "      <th>order_details_id</th>\n",
       "      <th>order_id</th>\n",
       "      <th>pizza_id</th>\n",
       "      <th>quantity</th>\n",
       "      <th>date</th>\n",
       "      <th>time</th>\n",
       "      <th>DateTime</th>\n",
       "      <th>pizza_type_id</th>\n",
       "      <th>name</th>\n",
       "      <th>category</th>\n",
       "      <th>ingredients</th>\n",
       "      <th>size</th>\n",
       "      <th>price</th>\n",
       "    </tr>\n",
       "  </thead>\n",
       "  <tbody>\n",
       "    <tr>\n",
       "      <th>0</th>\n",
       "      <td>1</td>\n",
       "      <td>1</td>\n",
       "      <td>hawaiian_m</td>\n",
       "      <td>1</td>\n",
       "      <td>2015-01-01</td>\n",
       "      <td>11:38:36</td>\n",
       "      <td>2015-01-01 11:38:36</td>\n",
       "      <td>hawaiian</td>\n",
       "      <td>The Hawaiian Pizza</td>\n",
       "      <td>Classic</td>\n",
       "      <td>Sliced Ham, Pineapple, Mozzarella Cheese</td>\n",
       "      <td>M</td>\n",
       "      <td>13.25</td>\n",
       "    </tr>\n",
       "    <tr>\n",
       "      <th>1</th>\n",
       "      <td>2</td>\n",
       "      <td>2</td>\n",
       "      <td>classic_dlx_m</td>\n",
       "      <td>1</td>\n",
       "      <td>2015-01-01</td>\n",
       "      <td>11:57:40</td>\n",
       "      <td>2015-01-01 11:57:40</td>\n",
       "      <td>classic_dlx</td>\n",
       "      <td>The Classic Deluxe Pizza</td>\n",
       "      <td>Classic</td>\n",
       "      <td>Pepperoni, Mushrooms, Red Onions, Red Peppers,...</td>\n",
       "      <td>M</td>\n",
       "      <td>16.00</td>\n",
       "    </tr>\n",
       "    <tr>\n",
       "      <th>2</th>\n",
       "      <td>3</td>\n",
       "      <td>2</td>\n",
       "      <td>five_cheese_l</td>\n",
       "      <td>1</td>\n",
       "      <td>2015-01-01</td>\n",
       "      <td>11:57:40</td>\n",
       "      <td>2015-01-01 11:57:40</td>\n",
       "      <td>five_cheese</td>\n",
       "      <td>The Five Cheese Pizza</td>\n",
       "      <td>Veggie</td>\n",
       "      <td>Mozzarella Cheese, Provolone Cheese, Smoked Go...</td>\n",
       "      <td>L</td>\n",
       "      <td>18.50</td>\n",
       "    </tr>\n",
       "    <tr>\n",
       "      <th>3</th>\n",
       "      <td>4</td>\n",
       "      <td>2</td>\n",
       "      <td>ital_supr_l</td>\n",
       "      <td>1</td>\n",
       "      <td>2015-01-01</td>\n",
       "      <td>11:57:40</td>\n",
       "      <td>2015-01-01 11:57:40</td>\n",
       "      <td>ital_supr</td>\n",
       "      <td>The Italian Supreme Pizza</td>\n",
       "      <td>Supreme</td>\n",
       "      <td>Calabrese Salami, Capocollo, Tomatoes, Red Oni...</td>\n",
       "      <td>L</td>\n",
       "      <td>20.75</td>\n",
       "    </tr>\n",
       "    <tr>\n",
       "      <th>4</th>\n",
       "      <td>5</td>\n",
       "      <td>2</td>\n",
       "      <td>mexicana_m</td>\n",
       "      <td>1</td>\n",
       "      <td>2015-01-01</td>\n",
       "      <td>11:57:40</td>\n",
       "      <td>2015-01-01 11:57:40</td>\n",
       "      <td>mexicana</td>\n",
       "      <td>The Mexicana Pizza</td>\n",
       "      <td>Veggie</td>\n",
       "      <td>Tomatoes, Red Peppers, Jalapeno Peppers, Red O...</td>\n",
       "      <td>M</td>\n",
       "      <td>16.00</td>\n",
       "    </tr>\n",
       "    <tr>\n",
       "      <th>...</th>\n",
       "      <td>...</td>\n",
       "      <td>...</td>\n",
       "      <td>...</td>\n",
       "      <td>...</td>\n",
       "      <td>...</td>\n",
       "      <td>...</td>\n",
       "      <td>...</td>\n",
       "      <td>...</td>\n",
       "      <td>...</td>\n",
       "      <td>...</td>\n",
       "      <td>...</td>\n",
       "      <td>...</td>\n",
       "      <td>...</td>\n",
       "    </tr>\n",
       "    <tr>\n",
       "      <th>48615</th>\n",
       "      <td>48616</td>\n",
       "      <td>21348</td>\n",
       "      <td>ckn_alfredo_m</td>\n",
       "      <td>1</td>\n",
       "      <td>2015-12-31</td>\n",
       "      <td>21:23:10</td>\n",
       "      <td>2015-12-31 21:23:10</td>\n",
       "      <td>ckn_alfredo</td>\n",
       "      <td>The Chicken Alfredo Pizza</td>\n",
       "      <td>Chicken</td>\n",
       "      <td>Chicken, Red Onions, Red Peppers, Mushrooms, A...</td>\n",
       "      <td>M</td>\n",
       "      <td>16.75</td>\n",
       "    </tr>\n",
       "    <tr>\n",
       "      <th>48616</th>\n",
       "      <td>48617</td>\n",
       "      <td>21348</td>\n",
       "      <td>four_cheese_l</td>\n",
       "      <td>1</td>\n",
       "      <td>2015-12-31</td>\n",
       "      <td>21:23:10</td>\n",
       "      <td>2015-12-31 21:23:10</td>\n",
       "      <td>four_cheese</td>\n",
       "      <td>The Four Cheese Pizza</td>\n",
       "      <td>Veggie</td>\n",
       "      <td>Ricotta Cheese, Gorgonzola Piccante Cheese, Mo...</td>\n",
       "      <td>L</td>\n",
       "      <td>17.95</td>\n",
       "    </tr>\n",
       "    <tr>\n",
       "      <th>48617</th>\n",
       "      <td>48618</td>\n",
       "      <td>21348</td>\n",
       "      <td>napolitana_s</td>\n",
       "      <td>1</td>\n",
       "      <td>2015-12-31</td>\n",
       "      <td>21:23:10</td>\n",
       "      <td>2015-12-31 21:23:10</td>\n",
       "      <td>napolitana</td>\n",
       "      <td>The Napolitana Pizza</td>\n",
       "      <td>Classic</td>\n",
       "      <td>Tomatoes, Anchovies, Green Olives, Red Onions,...</td>\n",
       "      <td>S</td>\n",
       "      <td>12.00</td>\n",
       "    </tr>\n",
       "    <tr>\n",
       "      <th>48618</th>\n",
       "      <td>48619</td>\n",
       "      <td>21349</td>\n",
       "      <td>mexicana_l</td>\n",
       "      <td>1</td>\n",
       "      <td>2015-12-31</td>\n",
       "      <td>22:09:54</td>\n",
       "      <td>2015-12-31 22:09:54</td>\n",
       "      <td>mexicana</td>\n",
       "      <td>The Mexicana Pizza</td>\n",
       "      <td>Veggie</td>\n",
       "      <td>Tomatoes, Red Peppers, Jalapeno Peppers, Red O...</td>\n",
       "      <td>L</td>\n",
       "      <td>20.25</td>\n",
       "    </tr>\n",
       "    <tr>\n",
       "      <th>48619</th>\n",
       "      <td>48620</td>\n",
       "      <td>21350</td>\n",
       "      <td>bbq_ckn_s</td>\n",
       "      <td>1</td>\n",
       "      <td>2015-12-31</td>\n",
       "      <td>23:02:05</td>\n",
       "      <td>2015-12-31 23:02:05</td>\n",
       "      <td>bbq_ckn</td>\n",
       "      <td>The Barbecue Chicken Pizza</td>\n",
       "      <td>Chicken</td>\n",
       "      <td>Barbecued Chicken, Red Peppers, Green Peppers,...</td>\n",
       "      <td>S</td>\n",
       "      <td>12.75</td>\n",
       "    </tr>\n",
       "  </tbody>\n",
       "</table>\n",
       "<p>48620 rows × 13 columns</p>\n",
       "</div>"
      ],
      "text/plain": [
       "       order_details_id  order_id       pizza_id  quantity        date  \\\n",
       "0                     1         1     hawaiian_m         1  2015-01-01   \n",
       "1                     2         2  classic_dlx_m         1  2015-01-01   \n",
       "2                     3         2  five_cheese_l         1  2015-01-01   \n",
       "3                     4         2    ital_supr_l         1  2015-01-01   \n",
       "4                     5         2     mexicana_m         1  2015-01-01   \n",
       "...                 ...       ...            ...       ...         ...   \n",
       "48615             48616     21348  ckn_alfredo_m         1  2015-12-31   \n",
       "48616             48617     21348  four_cheese_l         1  2015-12-31   \n",
       "48617             48618     21348   napolitana_s         1  2015-12-31   \n",
       "48618             48619     21349     mexicana_l         1  2015-12-31   \n",
       "48619             48620     21350      bbq_ckn_s         1  2015-12-31   \n",
       "\n",
       "           time            DateTime pizza_type_id                        name  \\\n",
       "0      11:38:36 2015-01-01 11:38:36      hawaiian          The Hawaiian Pizza   \n",
       "1      11:57:40 2015-01-01 11:57:40   classic_dlx    The Classic Deluxe Pizza   \n",
       "2      11:57:40 2015-01-01 11:57:40   five_cheese       The Five Cheese Pizza   \n",
       "3      11:57:40 2015-01-01 11:57:40     ital_supr   The Italian Supreme Pizza   \n",
       "4      11:57:40 2015-01-01 11:57:40      mexicana          The Mexicana Pizza   \n",
       "...         ...                 ...           ...                         ...   \n",
       "48615  21:23:10 2015-12-31 21:23:10   ckn_alfredo   The Chicken Alfredo Pizza   \n",
       "48616  21:23:10 2015-12-31 21:23:10   four_cheese       The Four Cheese Pizza   \n",
       "48617  21:23:10 2015-12-31 21:23:10    napolitana        The Napolitana Pizza   \n",
       "48618  22:09:54 2015-12-31 22:09:54      mexicana          The Mexicana Pizza   \n",
       "48619  23:02:05 2015-12-31 23:02:05       bbq_ckn  The Barbecue Chicken Pizza   \n",
       "\n",
       "      category                                        ingredients size  price  \n",
       "0      Classic           Sliced Ham, Pineapple, Mozzarella Cheese    M  13.25  \n",
       "1      Classic  Pepperoni, Mushrooms, Red Onions, Red Peppers,...    M  16.00  \n",
       "2       Veggie  Mozzarella Cheese, Provolone Cheese, Smoked Go...    L  18.50  \n",
       "3      Supreme  Calabrese Salami, Capocollo, Tomatoes, Red Oni...    L  20.75  \n",
       "4       Veggie  Tomatoes, Red Peppers, Jalapeno Peppers, Red O...    M  16.00  \n",
       "...        ...                                                ...  ...    ...  \n",
       "48615  Chicken  Chicken, Red Onions, Red Peppers, Mushrooms, A...    M  16.75  \n",
       "48616   Veggie  Ricotta Cheese, Gorgonzola Piccante Cheese, Mo...    L  17.95  \n",
       "48617  Classic  Tomatoes, Anchovies, Green Olives, Red Onions,...    S  12.00  \n",
       "48618   Veggie  Tomatoes, Red Peppers, Jalapeno Peppers, Red O...    L  20.25  \n",
       "48619  Chicken  Barbecued Chicken, Red Peppers, Green Peppers,...    S  12.75  \n",
       "\n",
       "[48620 rows x 13 columns]"
      ]
     },
     "execution_count": 18,
     "metadata": {},
     "output_type": "execute_result"
    }
   ],
   "source": [
    "#merging all the merged datasets on the pizza_id column\n",
    "\n",
    "full_data=pd.merge(first_merge, second_merge, on='pizza_id')\n",
    "full_data"
   ]
  },
  {
   "cell_type": "markdown",
   "id": "9d0446fc-bc3a-46e8-9cbc-7bc59affce48",
   "metadata": {},
   "source": [
    "## What is the total revenue/sales?"
   ]
  },
  {
   "cell_type": "code",
   "execution_count": 19,
   "id": "26583018-413a-4871-9d83-c1251fbe6776",
   "metadata": {},
   "outputs": [
    {
     "name": "stdout",
     "output_type": "stream",
     "text": [
      "The total revenue/sales for the year is $ 801944.70\n"
     ]
    }
   ],
   "source": [
    "\n",
    "print(f\"The total revenue/sales for the year is $ {full_data['price'].sum():.2f}\")"
   ]
  },
  {
   "cell_type": "code",
   "execution_count": null,
   "id": "36818d00-cb97-4468-abbc-c7ccaadae6fb",
   "metadata": {},
   "outputs": [],
   "source": []
  },
  {
   "cell_type": "markdown",
   "id": "8ade7608-bada-401a-a409-8cb4243af10d",
   "metadata": {},
   "source": [
    "## Find the total quantity sold.\n"
   ]
  },
  {
   "cell_type": "code",
   "execution_count": 20,
   "id": "f11b67cb-38d1-4e82-8265-716029091475",
   "metadata": {},
   "outputs": [
    {
     "name": "stdout",
     "output_type": "stream",
     "text": [
      "The total quantity of pizza sold for the year is 49574\n"
     ]
    }
   ],
   "source": [
    "print(f\"The total quantity of pizza sold for the year is {full_data['quantity'].sum()}\")"
   ]
  },
  {
   "cell_type": "code",
   "execution_count": null,
   "id": "911edbeb-0c5a-4999-af31-52d5f1d69a49",
   "metadata": {},
   "outputs": [],
   "source": []
  },
  {
   "cell_type": "markdown",
   "id": "611dbef2-20c9-4fd9-add7-dd91ee97a3ed",
   "metadata": {},
   "source": [
    "## Find the total orders."
   ]
  },
  {
   "cell_type": "code",
   "execution_count": 21,
   "id": "1e74eeee-b40f-44f4-965a-e9385266da00",
   "metadata": {},
   "outputs": [
    {
     "name": "stdout",
     "output_type": "stream",
     "text": [
      "The total number of distinct orders for the year is 48620\n"
     ]
    }
   ],
   "source": [
    "print(f\"The total number of distinct orders for the year is {len(full_data)}\")\n",
    "\n",
    "#This gives the total number of orders for each items bought\n",
    "#but doesn't reflect how many actual orders were made by customers at at time, we can show this using groupby"
   ]
  },
  {
   "cell_type": "code",
   "execution_count": 22,
   "id": "584bb354-7fde-4e40-bf4f-d3bc73b7a338",
   "metadata": {},
   "outputs": [
    {
     "data": {
      "text/html": [
       "<div>\n",
       "<style scoped>\n",
       "    .dataframe tbody tr th:only-of-type {\n",
       "        vertical-align: middle;\n",
       "    }\n",
       "\n",
       "    .dataframe tbody tr th {\n",
       "        vertical-align: top;\n",
       "    }\n",
       "\n",
       "    .dataframe thead th {\n",
       "        text-align: right;\n",
       "    }\n",
       "</style>\n",
       "<table border=\"1\" class=\"dataframe\">\n",
       "  <thead>\n",
       "    <tr style=\"text-align: right;\">\n",
       "      <th></th>\n",
       "      <th>order_id</th>\n",
       "      <th>quantity</th>\n",
       "    </tr>\n",
       "  </thead>\n",
       "  <tbody>\n",
       "    <tr>\n",
       "      <th>0</th>\n",
       "      <td>1</td>\n",
       "      <td>1</td>\n",
       "    </tr>\n",
       "    <tr>\n",
       "      <th>1</th>\n",
       "      <td>2</td>\n",
       "      <td>5</td>\n",
       "    </tr>\n",
       "    <tr>\n",
       "      <th>2</th>\n",
       "      <td>3</td>\n",
       "      <td>2</td>\n",
       "    </tr>\n",
       "    <tr>\n",
       "      <th>3</th>\n",
       "      <td>4</td>\n",
       "      <td>1</td>\n",
       "    </tr>\n",
       "    <tr>\n",
       "      <th>4</th>\n",
       "      <td>5</td>\n",
       "      <td>1</td>\n",
       "    </tr>\n",
       "    <tr>\n",
       "      <th>...</th>\n",
       "      <td>...</td>\n",
       "      <td>...</td>\n",
       "    </tr>\n",
       "    <tr>\n",
       "      <th>21345</th>\n",
       "      <td>21346</td>\n",
       "      <td>4</td>\n",
       "    </tr>\n",
       "    <tr>\n",
       "      <th>21346</th>\n",
       "      <td>21347</td>\n",
       "      <td>4</td>\n",
       "    </tr>\n",
       "    <tr>\n",
       "      <th>21347</th>\n",
       "      <td>21348</td>\n",
       "      <td>3</td>\n",
       "    </tr>\n",
       "    <tr>\n",
       "      <th>21348</th>\n",
       "      <td>21349</td>\n",
       "      <td>1</td>\n",
       "    </tr>\n",
       "    <tr>\n",
       "      <th>21349</th>\n",
       "      <td>21350</td>\n",
       "      <td>1</td>\n",
       "    </tr>\n",
       "  </tbody>\n",
       "</table>\n",
       "<p>21350 rows × 2 columns</p>\n",
       "</div>"
      ],
      "text/plain": [
       "       order_id  quantity\n",
       "0             1         1\n",
       "1             2         5\n",
       "2             3         2\n",
       "3             4         1\n",
       "4             5         1\n",
       "...         ...       ...\n",
       "21345     21346         4\n",
       "21346     21347         4\n",
       "21347     21348         3\n",
       "21348     21349         1\n",
       "21349     21350         1\n",
       "\n",
       "[21350 rows x 2 columns]"
      ]
     },
     "execution_count": 22,
     "metadata": {},
     "output_type": "execute_result"
    }
   ],
   "source": [
    "data_by_order=full_data.groupby('order_id')['quantity'].sum().reset_index()\n",
    "data_by_order"
   ]
  },
  {
   "cell_type": "code",
   "execution_count": 23,
   "id": "0c37de34-2efc-42b5-82d5-3821eadf965d",
   "metadata": {},
   "outputs": [
    {
     "name": "stdout",
     "output_type": "stream",
     "text": [
      "The total number of orders per person for the year is 21350\n"
     ]
    }
   ],
   "source": [
    "#Now the actual total number of orders is \n",
    "print(f\"The total number of orders per person for the year is {len(data_by_order)}\")"
   ]
  },
  {
   "cell_type": "code",
   "execution_count": null,
   "id": "fef278cb-52a6-4b5a-b3ef-309b706114d5",
   "metadata": {},
   "outputs": [],
   "source": []
  },
  {
   "cell_type": "markdown",
   "id": "d6ec77c3-46f6-436e-9d9c-f1bc491135b2",
   "metadata": {},
   "source": [
    "## How many pizza types do they sell?\n"
   ]
  },
  {
   "cell_type": "code",
   "execution_count": 24,
   "id": "82aa8c02-2ba5-4051-910b-b86211691bbf",
   "metadata": {},
   "outputs": [
    {
     "name": "stdout",
     "output_type": "stream",
     "text": [
      "The pizza shop sells a total of 91 pizzas types, with sizes in Small, Medium and Big\n"
     ]
    }
   ],
   "source": [
    "print(f\"The pizza shop sells a total of {full_data['pizza_id'].value_counts().count()} pizzas types, with sizes in Small, Medium and Big\")"
   ]
  },
  {
   "cell_type": "code",
   "execution_count": null,
   "id": "32e02d59-5617-4db9-bbec-2b3c24bf165d",
   "metadata": {},
   "outputs": [],
   "source": []
  },
  {
   "cell_type": "markdown",
   "id": "8c61ce70-8405-4bad-83c6-9342a5e7205e",
   "metadata": {},
   "source": [
    "## Find the average price of the pizzas."
   ]
  },
  {
   "cell_type": "code",
   "execution_count": 25,
   "id": "4288aa1c-14ce-4a7c-b7c9-b1d9e00b7540",
   "metadata": {},
   "outputs": [
    {
     "data": {
      "text/html": [
       "<div>\n",
       "<style scoped>\n",
       "    .dataframe tbody tr th:only-of-type {\n",
       "        vertical-align: middle;\n",
       "    }\n",
       "\n",
       "    .dataframe tbody tr th {\n",
       "        vertical-align: top;\n",
       "    }\n",
       "\n",
       "    .dataframe thead th {\n",
       "        text-align: right;\n",
       "    }\n",
       "</style>\n",
       "<table border=\"1\" class=\"dataframe\">\n",
       "  <thead>\n",
       "    <tr style=\"text-align: right;\">\n",
       "      <th></th>\n",
       "      <th>price</th>\n",
       "      <th>count</th>\n",
       "    </tr>\n",
       "  </thead>\n",
       "  <tbody>\n",
       "    <tr>\n",
       "      <th>0</th>\n",
       "      <td>20.75</td>\n",
       "      <td>8685</td>\n",
       "    </tr>\n",
       "    <tr>\n",
       "      <th>1</th>\n",
       "      <td>12.00</td>\n",
       "      <td>5600</td>\n",
       "    </tr>\n",
       "    <tr>\n",
       "      <th>2</th>\n",
       "      <td>16.00</td>\n",
       "      <td>4474</td>\n",
       "    </tr>\n",
       "    <tr>\n",
       "      <th>3</th>\n",
       "      <td>16.75</td>\n",
       "      <td>4294</td>\n",
       "    </tr>\n",
       "    <tr>\n",
       "      <th>4</th>\n",
       "      <td>16.50</td>\n",
       "      <td>4040</td>\n",
       "    </tr>\n",
       "    <tr>\n",
       "      <th>5</th>\n",
       "      <td>12.50</td>\n",
       "      <td>3328</td>\n",
       "    </tr>\n",
       "    <tr>\n",
       "      <th>6</th>\n",
       "      <td>20.25</td>\n",
       "      <td>3032</td>\n",
       "    </tr>\n",
       "    <tr>\n",
       "      <th>7</th>\n",
       "      <td>12.75</td>\n",
       "      <td>2507</td>\n",
       "    </tr>\n",
       "    <tr>\n",
       "      <th>8</th>\n",
       "      <td>20.50</td>\n",
       "      <td>1998</td>\n",
       "    </tr>\n",
       "    <tr>\n",
       "      <th>9</th>\n",
       "      <td>18.50</td>\n",
       "      <td>1359</td>\n",
       "    </tr>\n",
       "    <tr>\n",
       "      <th>10</th>\n",
       "      <td>17.95</td>\n",
       "      <td>1273</td>\n",
       "    </tr>\n",
       "    <tr>\n",
       "      <th>11</th>\n",
       "      <td>16.25</td>\n",
       "      <td>1114</td>\n",
       "    </tr>\n",
       "    <tr>\n",
       "      <th>12</th>\n",
       "      <td>10.50</td>\n",
       "      <td>1001</td>\n",
       "    </tr>\n",
       "    <tr>\n",
       "      <th>13</th>\n",
       "      <td>12.25</td>\n",
       "      <td>830</td>\n",
       "    </tr>\n",
       "    <tr>\n",
       "      <th>14</th>\n",
       "      <td>9.75</td>\n",
       "      <td>739</td>\n",
       "    </tr>\n",
       "    <tr>\n",
       "      <th>15</th>\n",
       "      <td>15.25</td>\n",
       "      <td>712</td>\n",
       "    </tr>\n",
       "    <tr>\n",
       "      <th>16</th>\n",
       "      <td>14.75</td>\n",
       "      <td>577</td>\n",
       "    </tr>\n",
       "    <tr>\n",
       "      <th>17</th>\n",
       "      <td>11.00</td>\n",
       "      <td>570</td>\n",
       "    </tr>\n",
       "    <tr>\n",
       "      <th>18</th>\n",
       "      <td>25.50</td>\n",
       "      <td>544</td>\n",
       "    </tr>\n",
       "    <tr>\n",
       "      <th>19</th>\n",
       "      <td>23.65</td>\n",
       "      <td>480</td>\n",
       "    </tr>\n",
       "    <tr>\n",
       "      <th>20</th>\n",
       "      <td>13.25</td>\n",
       "      <td>473</td>\n",
       "    </tr>\n",
       "    <tr>\n",
       "      <th>21</th>\n",
       "      <td>14.50</td>\n",
       "      <td>391</td>\n",
       "    </tr>\n",
       "    <tr>\n",
       "      <th>22</th>\n",
       "      <td>17.50</td>\n",
       "      <td>381</td>\n",
       "    </tr>\n",
       "    <tr>\n",
       "      <th>23</th>\n",
       "      <td>21.00</td>\n",
       "      <td>190</td>\n",
       "    </tr>\n",
       "    <tr>\n",
       "      <th>24</th>\n",
       "      <td>35.95</td>\n",
       "      <td>28</td>\n",
       "    </tr>\n",
       "  </tbody>\n",
       "</table>\n",
       "</div>"
      ],
      "text/plain": [
       "    price  count\n",
       "0   20.75   8685\n",
       "1   12.00   5600\n",
       "2   16.00   4474\n",
       "3   16.75   4294\n",
       "4   16.50   4040\n",
       "5   12.50   3328\n",
       "6   20.25   3032\n",
       "7   12.75   2507\n",
       "8   20.50   1998\n",
       "9   18.50   1359\n",
       "10  17.95   1273\n",
       "11  16.25   1114\n",
       "12  10.50   1001\n",
       "13  12.25    830\n",
       "14   9.75    739\n",
       "15  15.25    712\n",
       "16  14.75    577\n",
       "17  11.00    570\n",
       "18  25.50    544\n",
       "19  23.65    480\n",
       "20  13.25    473\n",
       "21  14.50    391\n",
       "22  17.50    381\n",
       "23  21.00    190\n",
       "24  35.95     28"
      ]
     },
     "execution_count": 25,
     "metadata": {},
     "output_type": "execute_result"
    }
   ],
   "source": [
    "prices=full_data['price'].value_counts().reset_index()\n",
    "prices"
   ]
  },
  {
   "cell_type": "code",
   "execution_count": 26,
   "id": "541036ad-5685-4645-bcdc-ad3e321dff6d",
   "metadata": {},
   "outputs": [
    {
     "name": "stdout",
     "output_type": "stream",
     "text": [
      "The average price of the pizzas sold is $ 17.02\n"
     ]
    }
   ],
   "source": [
    "print(f\"The average price of the pizzas sold is $ {prices['price'].mean():.2f}\")"
   ]
  },
  {
   "cell_type": "code",
   "execution_count": null,
   "id": "99f33cb6-3911-49bb-bb18-0f01988a948b",
   "metadata": {},
   "outputs": [],
   "source": []
  },
  {
   "cell_type": "markdown",
   "id": "85d4f15c-5edc-4a41-a244-7d2855f4069f",
   "metadata": {},
   "source": [
    "## What are the peak hours of sales?\n"
   ]
  },
  {
   "cell_type": "code",
   "execution_count": 27,
   "id": "2a741d61-92f4-4398-b02a-cfb02c2539fc",
   "metadata": {},
   "outputs": [
    {
     "data": {
      "text/html": [
       "<div>\n",
       "<style scoped>\n",
       "    .dataframe tbody tr th:only-of-type {\n",
       "        vertical-align: middle;\n",
       "    }\n",
       "\n",
       "    .dataframe tbody tr th {\n",
       "        vertical-align: top;\n",
       "    }\n",
       "\n",
       "    .dataframe thead th {\n",
       "        text-align: right;\n",
       "    }\n",
       "</style>\n",
       "<table border=\"1\" class=\"dataframe\">\n",
       "  <thead>\n",
       "    <tr style=\"text-align: right;\">\n",
       "      <th></th>\n",
       "      <th>DateTime</th>\n",
       "      <th>count</th>\n",
       "    </tr>\n",
       "  </thead>\n",
       "  <tbody>\n",
       "    <tr>\n",
       "      <th>0</th>\n",
       "      <td>12 PM</td>\n",
       "      <td>6543</td>\n",
       "    </tr>\n",
       "    <tr>\n",
       "      <th>1</th>\n",
       "      <td>1 PM</td>\n",
       "      <td>6203</td>\n",
       "    </tr>\n",
       "    <tr>\n",
       "      <th>2</th>\n",
       "      <td>6 PM</td>\n",
       "      <td>5359</td>\n",
       "    </tr>\n",
       "    <tr>\n",
       "      <th>3</th>\n",
       "      <td>5 PM</td>\n",
       "      <td>5143</td>\n",
       "    </tr>\n",
       "    <tr>\n",
       "      <th>4</th>\n",
       "      <td>7 PM</td>\n",
       "      <td>4350</td>\n",
       "    </tr>\n",
       "    <tr>\n",
       "      <th>5</th>\n",
       "      <td>4 PM</td>\n",
       "      <td>4185</td>\n",
       "    </tr>\n",
       "    <tr>\n",
       "      <th>6</th>\n",
       "      <td>2 PM</td>\n",
       "      <td>3521</td>\n",
       "    </tr>\n",
       "    <tr>\n",
       "      <th>7</th>\n",
       "      <td>8 PM</td>\n",
       "      <td>3487</td>\n",
       "    </tr>\n",
       "    <tr>\n",
       "      <th>8</th>\n",
       "      <td>3 PM</td>\n",
       "      <td>3170</td>\n",
       "    </tr>\n",
       "    <tr>\n",
       "      <th>9</th>\n",
       "      <td>11 AM</td>\n",
       "      <td>2672</td>\n",
       "    </tr>\n",
       "  </tbody>\n",
       "</table>\n",
       "</div>"
      ],
      "text/plain": [
       "  DateTime  count\n",
       "0    12 PM   6543\n",
       "1     1 PM   6203\n",
       "2     6 PM   5359\n",
       "3     5 PM   5143\n",
       "4     7 PM   4350\n",
       "5     4 PM   4185\n",
       "6     2 PM   3521\n",
       "7     8 PM   3487\n",
       "8     3 PM   3170\n",
       "9    11 AM   2672"
      ]
     },
     "execution_count": 27,
     "metadata": {},
     "output_type": "execute_result"
    }
   ],
   "source": [
    "#Genarate a table showing top 10 hour of sales and its count per hour\n",
    "\n",
    "hour_of_sales=full_data['DateTime'].dt.strftime('%I %p').str.lstrip(\"0\")\n",
    "peak_hours=hour_of_sales.value_counts().reset_index()[:10]\n",
    "peak_hours"
   ]
  },
  {
   "cell_type": "code",
   "execution_count": 28,
   "id": "3dfaa0b7-e3ba-4fd4-bb57-160c25fe0371",
   "metadata": {},
   "outputs": [],
   "source": [
    "hour_of_sales=hour_of_sales.reset_index()"
   ]
  },
  {
   "cell_type": "code",
   "execution_count": 29,
   "id": "b56d28dc-db96-4b56-8ffb-4f2daec1867e",
   "metadata": {},
   "outputs": [
    {
     "data": {
      "image/png": "[encoded data removed]",
      "text/plain": [
       "<Figure size 640x480 with 1 Axes>"
      ]
     },
     "metadata": {},
     "output_type": "display_data"
    }
   ],
   "source": [
    "plt.bar(peak_hours['DateTime'], peak_hours['count'])\n",
    "plt.xlabel('Hours of The Day')\n",
    "plt.title('Top 10 Peak Hours of sales')\n",
    "plt.ylabel('Order Counts')\n",
    "plt.xticks(rotation=45)\n",
    "plt.show()"
   ]
  },
  {
   "cell_type": "markdown",
   "id": "5ae775d1-6d85-431c-9592-b1194971897a",
   "metadata": {},
   "source": [
    "#### From the given chart, it is clear that the most number of sales are made during Mid-day or Noon (12 PM), followed by 1 PM then 6 PM and so on"
   ]
  },
  {
   "cell_type": "code",
   "execution_count": null,
   "id": "36e42a64-b777-4945-8603-c1058687669c",
   "metadata": {},
   "outputs": [],
   "source": []
  },
  {
   "cell_type": "markdown",
   "id": "fb8225af-2e4f-47ba-b08a-0b3a41ce1235",
   "metadata": {},
   "source": [
    "## Find the total sales made on each day of the week. Which day of the week is when sales are made the most?"
   ]
  },
  {
   "cell_type": "code",
   "execution_count": 30,
   "id": "6820f9cb-c552-4236-a675-81ede93bdba8",
   "metadata": {},
   "outputs": [
    {
     "data": {
      "text/plain": [
       "DateTime\n",
       "Sunday       5917\n",
       "Monday       6369\n",
       "Tuesday      6753\n",
       "Wednesday    6797\n",
       "Thursday     7323\n",
       "Friday       8106\n",
       "Saturday     7355\n",
       "Name: count, dtype: int64"
      ]
     },
     "execution_count": 30,
     "metadata": {},
     "output_type": "execute_result"
    }
   ],
   "source": [
    "#Group the total number of sales by the day of the week \n",
    "\n",
    "day_of_sales=full_data['DateTime'].dt.day_name().value_counts()\n",
    "order=['Sunday', 'Monday', 'Tuesday', 'Wednesday', 'Thursday', 'Friday', 'Saturday']\n",
    "day_of_sales=day_of_sales.reindex(order)\n",
    "day_of_sales"
   ]
  },
  {
   "cell_type": "code",
   "execution_count": 31,
   "id": "e28ae6b9-ab55-4c9d-aa07-ccc9d53dd063",
   "metadata": {},
   "outputs": [
    {
     "data": {
      "image/png": "[encoded data removed]",
      "text/plain": [
       "<Figure size 640x480 with 1 Axes>"
      ]
     },
     "metadata": {},
     "output_type": "display_data"
    },
    {
     "name": "stdout",
     "output_type": "stream",
     "text": [
      "The most sales with a total of 8106 is made on Fridays\n"
     ]
    }
   ],
   "source": [
    "plt.bar(day_of_sales.index, day_of_sales.values)\n",
    "plt.xlabel('Day of The Week')\n",
    "plt.title('Total Sales Made on Each Day of The Week')\n",
    "plt.ylabel('Order Counts')\n",
    "plt.xticks(rotation=45)\n",
    "plt.show()\\\n",
    "\n",
    "\n",
    "print(f'The most sales with a total of {day_of_sales.max()} is made on {day_of_sales.idxmax()}s')"
   ]
  },
  {
   "cell_type": "markdown",
   "id": "c8e1e5b7-ae78-41cf-8f7a-626de7dc6841",
   "metadata": {},
   "source": [
    "#### The highest number of sales (8106) are made on a Friday"
   ]
  },
  {
   "cell_type": "code",
   "execution_count": null,
   "id": "5a8b0887-eb89-4c36-aa9b-80adf31cb49b",
   "metadata": {},
   "outputs": [],
   "source": []
  },
  {
   "cell_type": "markdown",
   "id": "2c242a01-b8f8-469f-add7-0c424d63326a",
   "metadata": {},
   "source": [
    "## Find the top 5 bestselling pizzas."
   ]
  },
  {
   "cell_type": "code",
   "execution_count": 32,
   "id": "35a983ac-1d0c-4581-806b-2edf885f532a",
   "metadata": {},
   "outputs": [
    {
     "data": {
      "text/plain": [
       "name\n",
       "The Classic Deluxe Pizza      2416\n",
       "The Barbecue Chicken Pizza    2372\n",
       "The Hawaiian Pizza            2370\n",
       "The Pepperoni Pizza           2369\n",
       "The Thai Chicken Pizza        2315\n",
       "Name: count, dtype: int64"
      ]
     },
     "execution_count": 32,
     "metadata": {},
     "output_type": "execute_result"
    }
   ],
   "source": [
    "#Group the top 5 selling pizzas by sales count\n",
    "\n",
    "best_selling=full_data['name'].value_counts()[0:5]\n",
    "best_selling"
   ]
  },
  {
   "cell_type": "code",
   "execution_count": 33,
   "id": "6e3d418a-2048-400c-a920-ee54f794d2f0",
   "metadata": {},
   "outputs": [
    {
     "data": {
      "image/png": "[encoded data removed]",
      "text/plain": [
       "<Figure size 640x480 with 1 Axes>"
      ]
     },
     "metadata": {},
     "output_type": "display_data"
    },
    {
     "name": "stdout",
     "output_type": "stream",
     "text": [
      "The 5 top bestselling pizzas are The Classic Deluxe Pizza, The Barbecue Chicken Pizza, The Hawaiian Pizza, The Pepperoni Pizza and The Thai Chicken Pizza\n"
     ]
    }
   ],
   "source": [
    "plt.bar(best_selling.index, best_selling.values)\n",
    "plt.xlabel('Pizza Name')\n",
    "plt.title('Top 5 Bestselling Pizzas')\n",
    "plt.ylabel('Order Counts')\n",
    "plt.xticks(rotation=45, ha='right')\n",
    "plt.show()\n",
    "\n",
    "top_pizza_list=list(best_selling.index)\n",
    "top_pizza_list=\", \".join(top_pizza_list[0:4]) + \" and \" + top_pizza_list[-1]\n",
    "print(f'The 5 top bestselling pizzas are {top_pizza_list}')"
   ]
  },
  {
   "cell_type": "markdown",
   "id": "38be2c3c-d4bf-4858-9074-f43ad6522a00",
   "metadata": {},
   "source": [
    "#### The 5 top bestselling pizzas are The Classic Deluxe Pizza, The Barbecue Chicken Pizza, The Hawaiian Pizza, The Pepperoni Pizza and The Thai Chicken Pizza"
   ]
  },
  {
   "cell_type": "code",
   "execution_count": null,
   "id": "16bc9aa3-1f6f-441b-a70d-ed23358b55bf",
   "metadata": {},
   "outputs": [],
   "source": []
  },
  {
   "cell_type": "markdown",
   "id": "d3442917-bd07-4acf-b527-220f38259f58",
   "metadata": {},
   "source": [
    "## Find the sales made in each month. Any trend noticeable?"
   ]
  },
  {
   "cell_type": "code",
   "execution_count": 34,
   "id": "e952ffa8-00e2-4394-a3cc-f94af0d2218b",
   "metadata": {},
   "outputs": [
    {
     "data": {
      "text/plain": [
       "DateTime\n",
       "July         4301\n",
       "May          4239\n",
       "March        4186\n",
       "November     4185\n",
       "January      4156\n",
       "August       4094\n",
       "April        4067\n",
       "June         4025\n",
       "February     3892\n",
       "December     3859\n",
       "September    3819\n",
       "October      3797\n",
       "Name: count, dtype: int64"
      ]
     },
     "execution_count": 34,
     "metadata": {},
     "output_type": "execute_result"
    }
   ],
   "source": [
    "#Group the days of the month by sales count\n",
    "full_data['month_of_sales']=full_data['DateTime'].dt.month_name()\n",
    "month_of_sales=full_data['DateTime'].dt.month_name()\n",
    "month_of_sales.value_counts()"
   ]
  },
  {
   "cell_type": "code",
   "execution_count": 35,
   "id": "092b1324-4c55-471a-a0c2-07e41fe59527",
   "metadata": {},
   "outputs": [
    {
     "data": {
      "image/png": "[encoded data removed]",
      "text/plain": [
       "<Figure size 640x480 with 1 Axes>"
      ]
     },
     "metadata": {},
     "output_type": "display_data"
    }
   ],
   "source": [
    "sns.countplot(data=month_of_sales, palette='rocket')\n",
    "plt.xlabel('Sales Count')\n",
    "plt.title('Total Number of Sales Made Per Month')\n",
    "plt.ylabel('Month of The Year')\n",
    "\n",
    "plt.show()"
   ]
  },
  {
   "cell_type": "markdown",
   "id": "42f3a946-1e74-4e95-97b8-d23b6487ef3b",
   "metadata": {},
   "source": [
    "#### The total number of sales made per month are fairly within range of eachother awitth the most amount of sales being in July"
   ]
  },
  {
   "cell_type": "code",
   "execution_count": 36,
   "id": "dc857f60-9e4c-40b3-9d22-ee9a3f02e650",
   "metadata": {},
   "outputs": [
    {
     "data": {
      "text/plain": [
       "month_of_sales\n",
       "January      68472.70\n",
       "February     64067.40\n",
       "March        69198.00\n",
       "April        67286.20\n",
       "May          69939.35\n",
       "June         66796.30\n",
       "July         71027.45\n",
       "August       67068.80\n",
       "September    63018.00\n",
       "October      62566.50\n",
       "November     69054.00\n",
       "December     63450.00\n",
       "Name: price, dtype: float64"
      ]
     },
     "execution_count": 36,
     "metadata": {},
     "output_type": "execute_result"
    }
   ],
   "source": [
    "#group the months by total revenue made in that month\n",
    "monthly_sales = full_data.groupby('month_of_sales')['price'].sum()\n",
    "monthly_sales = monthly_sales.reindex(['January', 'February', 'March', 'April', 'May', 'June', 'July', 'August', 'September', 'October', 'November', 'December'])\n",
    "monthly_sales"
   ]
  },
  {
   "cell_type": "code",
   "execution_count": 37,
   "id": "21dd22d6-647c-44cf-a3fd-248ad3e57964",
   "metadata": {},
   "outputs": [
    {
     "data": {
      "image/png": "[encoded data removed]",
      "text/plain": [
       "<Figure size 640x480 with 1 Axes>"
      ]
     },
     "metadata": {},
     "output_type": "display_data"
    }
   ],
   "source": [
    "sns.lineplot(x=monthly_sales.index, y=monthly_sales.values, marker='o')\n",
    "plt.title('Monthly Sales Trend')\n",
    "plt.xlabel('Month')\n",
    "plt.ylabel('Total Sales')\n",
    "plt.xticks(rotation=90)\n",
    "plt.show()"
   ]
  },
  {
   "cell_type": "markdown",
   "id": "b5de7e52-25b0-4764-9166-ac227a7d80f9",
   "metadata": {},
   "source": [
    "#### It is observed that the most money was made in July with the least amount of money from sales made in October"
   ]
  },
  {
   "cell_type": "code",
   "execution_count": null,
   "id": "0b17c237-5e61-4770-8c31-5afc892a9ff0",
   "metadata": {},
   "outputs": [],
   "source": []
  },
  {
   "cell_type": "markdown",
   "id": "addc545f-9025-43b9-b82e-dff3bd6efad6",
   "metadata": {},
   "source": [
    "## Are there pizza types that are not doing well on the menu?\n"
   ]
  },
  {
   "cell_type": "code",
   "execution_count": 38,
   "id": "72865242-c045-4dd5-b079-ebe28a7b94ae",
   "metadata": {},
   "outputs": [
    {
     "data": {
      "image/png": "[encoded data removed]",
      "text/plain": [
       "<Figure size 640x480 with 1 Axes>"
      ]
     },
     "metadata": {},
     "output_type": "display_data"
    }
   ],
   "source": [
    "#First , I grouped the pizzas by pizza name and not the eaxct pizza type to see the least 5 perfoming pizza\n",
    "\n",
    "least_selling=full_data['name'].value_counts()[-5:]\n",
    "plt.bar(least_selling.index, least_selling.values)\n",
    "plt.xlabel('Pizza Name')\n",
    "plt.title(' 5 Least selling Pizzas Name')\n",
    "plt.ylabel('Order Counts')\n",
    "plt.xticks(rotation=45, ha='right')\n",
    "plt.show()"
   ]
  },
  {
   "cell_type": "markdown",
   "id": "5d09b194-f50e-4b8c-8c4a-7c232a24e615",
   "metadata": {},
   "source": [
    "#### Th least performing pizza name is the Brie Carre Pizza"
   ]
  },
  {
   "cell_type": "code",
   "execution_count": 39,
   "id": "81329ef5-3cc0-4bd0-a135-7f99302967cb",
   "metadata": {},
   "outputs": [
    {
     "data": {
      "text/plain": [
       "pizza_id\n",
       "spinach_supr_m    266\n",
       "the_greek_l       255\n",
       "ital_supr_s       194\n",
       "ital_veggie_l     190\n",
       "ckn_alfredo_l     187\n",
       "mexicana_s        160\n",
       "calabrese_s        99\n",
       "ckn_alfredo_s      96\n",
       "green_garden_l     94\n",
       "the_greek_xxl      28\n",
       "Name: count, dtype: int64"
      ]
     },
     "execution_count": 39,
     "metadata": {},
     "output_type": "execute_result"
    }
   ],
   "source": [
    "#Then i grouped thw least 10 perfoming pizza type, this includes pizza names and size\n",
    "\n",
    "pizza_type=full_data['pizza_id'].value_counts()\n",
    "\n",
    "least_performing_10=pizza_type[-10:]\n",
    "least_performing_10"
   ]
  },
  {
   "cell_type": "code",
   "execution_count": 40,
   "id": "be85e876-7a55-4a29-8f37-a15b85bc9293",
   "metadata": {},
   "outputs": [
    {
     "data": {
      "image/png": "[encoded data removed]",
      "text/plain": [
       "<Figure size 640x480 with 1 Axes>"
      ]
     },
     "metadata": {},
     "output_type": "display_data"
    }
   ],
   "source": [
    "\n",
    "plt.bar(least_performing_10.index, least_performing_10.values)\n",
    "plt.xlabel('Pizza ID')\n",
    "plt.title(' 10 Least selling Pizzas Types With Size')\n",
    "plt.ylabel('Order Counts')\n",
    "plt.xticks(rotation=45, ha='right')\n",
    "plt.show()"
   ]
  },
  {
   "cell_type": "markdown",
   "id": "c0cfa62e-cca4-45d9-b10f-d889ea02469c",
   "metadata": {},
   "source": [
    "#### The pizza types not performing well in particular are the calabrese_s with 99 sales ,ckn_alfredo_s with 96 sales, green_garden_l with 94 and the_greek_xxl with 28 sales"
   ]
  },
  {
   "cell_type": "code",
   "execution_count": null,
   "id": "752c99ac-a663-471d-ac06-de0f9c432546",
   "metadata": {},
   "outputs": [],
   "source": []
  },
  {
   "cell_type": "markdown",
   "id": "59f64103-ac1e-48a2-8a3c-110603d08dff",
   "metadata": {},
   "source": [
    "## WEEKLY SALES TREND"
   ]
  },
  {
   "cell_type": "code",
   "execution_count": 41,
   "id": "f2a7ac47-f835-4bfa-9ec6-7c96b0493d42",
   "metadata": {},
   "outputs": [
    {
     "data": {
      "image/png": "[encoded data removed]",
      "text/plain": [
       "<Figure size 640x480 with 1 Axes>"
      ]
     },
     "metadata": {},
     "output_type": "display_data"
    }
   ],
   "source": [
    "#group the months by total revenue made in that Wweek\n",
    "full_data['week_of_sales']=full_data['DateTime'].dt.isocalendar().week\n",
    "week_of_sales = full_data.groupby('week_of_sales')['price'].sum()\n",
    "\n",
    "\n",
    "sns.lineplot(x=week_of_sales.index, y=week_of_sales.values, marker='o')\n",
    "plt.title('Weekly Sales Trend')\n",
    "plt.xlabel('Week')\n",
    "plt.ylabel('Total Sales')\n",
    "plt.xticks(rotation=90)\n",
    "plt.show()"
   ]
  },
  {
   "cell_type": "markdown",
   "id": "8e0a2724-5900-4aae-82a9-fae2de5c6606",
   "metadata": {},
   "source": [
    "#### The highest revenue was made in week 48"
   ]
  },
  {
   "cell_type": "code",
   "execution_count": null,
   "id": "6492ee42-8f9b-4951-bd72-1c8c86812476",
   "metadata": {},
   "outputs": [],
   "source": []
  },
  {
   "cell_type": "markdown",
   "id": "e8805c9a-24c8-44f8-ada3-7b52439e7d4d",
   "metadata": {},
   "source": [
    "## Are weekdays slower than weekends?"
   ]
  },
  {
   "cell_type": "code",
   "execution_count": 42,
   "id": "06a42068-0c05-4fc2-87d9-5fe44b8c738e",
   "metadata": {},
   "outputs": [],
   "source": [
    "full_data['day_of_week']=full_data['DateTime'].dt.day_name()"
   ]
  },
  {
   "cell_type": "code",
   "execution_count": 43,
   "id": "7d12be32-133e-48fb-b7cc-ceea729ba122",
   "metadata": {},
   "outputs": [
    {
     "data": {
      "text/html": [
       "<div>\n",
       "<style scoped>\n",
       "    .dataframe tbody tr th:only-of-type {\n",
       "        vertical-align: middle;\n",
       "    }\n",
       "\n",
       "    .dataframe tbody tr th {\n",
       "        vertical-align: top;\n",
       "    }\n",
       "\n",
       "    .dataframe thead th {\n",
       "        text-align: right;\n",
       "    }\n",
       "</style>\n",
       "<table border=\"1\" class=\"dataframe\">\n",
       "  <thead>\n",
       "    <tr style=\"text-align: right;\">\n",
       "      <th></th>\n",
       "      <th>order_details_id</th>\n",
       "      <th>order_id</th>\n",
       "      <th>pizza_id</th>\n",
       "      <th>quantity</th>\n",
       "      <th>date</th>\n",
       "      <th>time</th>\n",
       "      <th>DateTime</th>\n",
       "      <th>pizza_type_id</th>\n",
       "      <th>name</th>\n",
       "      <th>category</th>\n",
       "      <th>ingredients</th>\n",
       "      <th>size</th>\n",
       "      <th>price</th>\n",
       "      <th>month_of_sales</th>\n",
       "      <th>week_of_sales</th>\n",
       "      <th>day_of_week</th>\n",
       "      <th>day_type</th>\n",
       "    </tr>\n",
       "  </thead>\n",
       "  <tbody>\n",
       "    <tr>\n",
       "      <th>0</th>\n",
       "      <td>1</td>\n",
       "      <td>1</td>\n",
       "      <td>hawaiian_m</td>\n",
       "      <td>1</td>\n",
       "      <td>2015-01-01</td>\n",
       "      <td>11:38:36</td>\n",
       "      <td>2015-01-01 11:38:36</td>\n",
       "      <td>hawaiian</td>\n",
       "      <td>The Hawaiian Pizza</td>\n",
       "      <td>Classic</td>\n",
       "      <td>Sliced Ham, Pineapple, Mozzarella Cheese</td>\n",
       "      <td>M</td>\n",
       "      <td>13.25</td>\n",
       "      <td>January</td>\n",
       "      <td>1</td>\n",
       "      <td>Thursday</td>\n",
       "      <td>Weekday</td>\n",
       "    </tr>\n",
       "    <tr>\n",
       "      <th>1</th>\n",
       "      <td>2</td>\n",
       "      <td>2</td>\n",
       "      <td>classic_dlx_m</td>\n",
       "      <td>1</td>\n",
       "      <td>2015-01-01</td>\n",
       "      <td>11:57:40</td>\n",
       "      <td>2015-01-01 11:57:40</td>\n",
       "      <td>classic_dlx</td>\n",
       "      <td>The Classic Deluxe Pizza</td>\n",
       "      <td>Classic</td>\n",
       "      <td>Pepperoni, Mushrooms, Red Onions, Red Peppers,...</td>\n",
       "      <td>M</td>\n",
       "      <td>16.00</td>\n",
       "      <td>January</td>\n",
       "      <td>1</td>\n",
       "      <td>Thursday</td>\n",
       "      <td>Weekday</td>\n",
       "    </tr>\n",
       "    <tr>\n",
       "      <th>2</th>\n",
       "      <td>3</td>\n",
       "      <td>2</td>\n",
       "      <td>five_cheese_l</td>\n",
       "      <td>1</td>\n",
       "      <td>2015-01-01</td>\n",
       "      <td>11:57:40</td>\n",
       "      <td>2015-01-01 11:57:40</td>\n",
       "      <td>five_cheese</td>\n",
       "      <td>The Five Cheese Pizza</td>\n",
       "      <td>Veggie</td>\n",
       "      <td>Mozzarella Cheese, Provolone Cheese, Smoked Go...</td>\n",
       "      <td>L</td>\n",
       "      <td>18.50</td>\n",
       "      <td>January</td>\n",
       "      <td>1</td>\n",
       "      <td>Thursday</td>\n",
       "      <td>Weekday</td>\n",
       "    </tr>\n",
       "    <tr>\n",
       "      <th>3</th>\n",
       "      <td>4</td>\n",
       "      <td>2</td>\n",
       "      <td>ital_supr_l</td>\n",
       "      <td>1</td>\n",
       "      <td>2015-01-01</td>\n",
       "      <td>11:57:40</td>\n",
       "      <td>2015-01-01 11:57:40</td>\n",
       "      <td>ital_supr</td>\n",
       "      <td>The Italian Supreme Pizza</td>\n",
       "      <td>Supreme</td>\n",
       "      <td>Calabrese Salami, Capocollo, Tomatoes, Red Oni...</td>\n",
       "      <td>L</td>\n",
       "      <td>20.75</td>\n",
       "      <td>January</td>\n",
       "      <td>1</td>\n",
       "      <td>Thursday</td>\n",
       "      <td>Weekday</td>\n",
       "    </tr>\n",
       "    <tr>\n",
       "      <th>4</th>\n",
       "      <td>5</td>\n",
       "      <td>2</td>\n",
       "      <td>mexicana_m</td>\n",
       "      <td>1</td>\n",
       "      <td>2015-01-01</td>\n",
       "      <td>11:57:40</td>\n",
       "      <td>2015-01-01 11:57:40</td>\n",
       "      <td>mexicana</td>\n",
       "      <td>The Mexicana Pizza</td>\n",
       "      <td>Veggie</td>\n",
       "      <td>Tomatoes, Red Peppers, Jalapeno Peppers, Red O...</td>\n",
       "      <td>M</td>\n",
       "      <td>16.00</td>\n",
       "      <td>January</td>\n",
       "      <td>1</td>\n",
       "      <td>Thursday</td>\n",
       "      <td>Weekday</td>\n",
       "    </tr>\n",
       "  </tbody>\n",
       "</table>\n",
       "</div>"
      ],
      "text/plain": [
       "   order_details_id  order_id       pizza_id  quantity        date      time  \\\n",
       "0                 1         1     hawaiian_m         1  2015-01-01  11:38:36   \n",
       "1                 2         2  classic_dlx_m         1  2015-01-01  11:57:40   \n",
       "2                 3         2  five_cheese_l         1  2015-01-01  11:57:40   \n",
       "3                 4         2    ital_supr_l         1  2015-01-01  11:57:40   \n",
       "4                 5         2     mexicana_m         1  2015-01-01  11:57:40   \n",
       "\n",
       "             DateTime pizza_type_id                       name category  \\\n",
       "0 2015-01-01 11:38:36      hawaiian         The Hawaiian Pizza  Classic   \n",
       "1 2015-01-01 11:57:40   classic_dlx   The Classic Deluxe Pizza  Classic   \n",
       "2 2015-01-01 11:57:40   five_cheese      The Five Cheese Pizza   Veggie   \n",
       "3 2015-01-01 11:57:40     ital_supr  The Italian Supreme Pizza  Supreme   \n",
       "4 2015-01-01 11:57:40      mexicana         The Mexicana Pizza   Veggie   \n",
       "\n",
       "                                         ingredients size  price  \\\n",
       "0           Sliced Ham, Pineapple, Mozzarella Cheese    M  13.25   \n",
       "1  Pepperoni, Mushrooms, Red Onions, Red Peppers,...    M  16.00   \n",
       "2  Mozzarella Cheese, Provolone Cheese, Smoked Go...    L  18.50   \n",
       "3  Calabrese Salami, Capocollo, Tomatoes, Red Oni...    L  20.75   \n",
       "4  Tomatoes, Red Peppers, Jalapeno Peppers, Red O...    M  16.00   \n",
       "\n",
       "  month_of_sales  week_of_sales day_of_week day_type  \n",
       "0        January              1    Thursday  Weekday  \n",
       "1        January              1    Thursday  Weekday  \n",
       "2        January              1    Thursday  Weekday  \n",
       "3        January              1    Thursday  Weekday  \n",
       "4        January              1    Thursday  Weekday  "
      ]
     },
     "execution_count": 43,
     "metadata": {},
     "output_type": "execute_result"
    }
   ],
   "source": [
    "full_data['day_type']=full_data['day_of_week'].apply(lambda x: 'Weekend' if x in ['Saturday','Sunday'] else 'Weekday')\n",
    "full_data.head()"
   ]
  },
  {
   "cell_type": "code",
   "execution_count": 53,
   "id": "eb4f6ed7-b352-42e2-a4f6-0e258e944f16",
   "metadata": {},
   "outputs": [
    {
     "data": {
      "text/plain": [
       "day_type\n",
       "Weekday    36046\n",
       "Weekend    13528\n",
       "Name: quantity, dtype: int64"
      ]
     },
     "execution_count": 53,
     "metadata": {},
     "output_type": "execute_result"
    }
   ],
   "source": [
    "daytype_quant = full_data.groupby('day_type')['quantity'].sum()\n",
    "daytype_quant"
   ]
  },
  {
   "cell_type": "code",
   "execution_count": 54,
   "id": "1af97a2c-53b5-4d9f-ba80-1c629f87b6de",
   "metadata": {},
   "outputs": [
    {
     "data": {
      "image/png": "[encoded data removed]",
      "text/plain": [
       "<Figure size 640x480 with 1 Axes>"
      ]
     },
     "metadata": {},
     "output_type": "display_data"
    }
   ],
   "source": [
    "sns.barplot(x=daytype_quant.values , y=daytype_quant.index)\n",
    "plt.ylabel('Day Type')\n",
    "plt.xlabel('Sales Count')\n",
    "plt.show()"
   ]
  },
  {
   "cell_type": "markdown",
   "id": "7e96789e-4ae8-423f-ba3c-6250b51d5ec7",
   "metadata": {},
   "source": [
    "#### This shows that more pizzas are sold during weekdays , which is to be expected as weekdays consist of 5 days"
   ]
  },
  {
   "cell_type": "code",
   "execution_count": 50,
   "id": "ba6bb352-3276-449b-ac78-8f74911fb88e",
   "metadata": {},
   "outputs": [
    {
     "data": {
      "text/plain": [
       "day_type\n",
       "Weekday    16.516200\n",
       "Weekend    16.435356\n",
       "Name: price, dtype: float64"
      ]
     },
     "execution_count": 50,
     "metadata": {},
     "output_type": "execute_result"
    }
   ],
   "source": [
    "daytype_sales = full_data.groupby('day_type')['price'].mean()\n",
    "daytype_sales"
   ]
  },
  {
   "cell_type": "code",
   "execution_count": 55,
   "id": "6204af93-cd61-4b47-a342-aa4bc18b4d7c",
   "metadata": {},
   "outputs": [
    {
     "data": {
      "image/png": "[encoded data removed]",
      "text/plain": [
       "<Figure size 640x480 with 1 Axes>"
      ]
     },
     "metadata": {},
     "output_type": "display_data"
    }
   ],
   "source": [
    "sns.barplot(x=daytype_sales.values , y=daytype_sales.index)\n",
    "plt.ylabel('Day Type')\n",
    "plt.xlabel('Average AMount Sold')\n",
    "plt.show()"
   ]
  },
  {
   "cell_type": "markdown",
   "id": "72354bd2-cc4c-41bb-aad8-a48a0e4f89d9",
   "metadata": {},
   "source": [
    "#### The bar chart above shows that despite the lower number of sales during weekends , the average amount of sales compared to the weekday is actually almost same\n"
   ]
  },
  {
   "cell_type": "code",
   "execution_count": null,
   "id": "d3832f65-dfc7-41b6-a633-10e119441651",
   "metadata": {},
   "outputs": [],
   "source": []
  }
 ],
 "metadata": {
  "kernelspec": {
   "display_name": "Python 3 (ipykernel)",
   "language": "python",
   "name": "python3"
  },
  "language_info": {
   "codemirror_mode": {
    "name": "ipython",
    "version": 3
   },
   "file_extension": ".py",
   "mimetype": "text/x-python",
   "name": "python",
   "nbconvert_exporter": "python",
   "pygments_lexer": "ipython3",
   "version": "3.13.5"
  }
 },
 "nbformat": 4,
 "nbformat_minor": 5
}
